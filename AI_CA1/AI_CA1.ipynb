{
 "cells": [
  {
   "cell_type": "markdown",
   "metadata": {},
   "source": [
    "# Search Algorithms"
   ]
  },
  {
   "cell_type": "markdown",
   "metadata": {},
   "source": [
    "## Introduction"
   ]
  },
  {
   "cell_type": "markdown",
   "metadata": {},
   "source": [
    "In this project we are going to program an AI snake solver which playes the famous snake game using different search algorithms like BFS,DLS and Astar.In the end we are going to compare time complexity of these algorithms on 3 test sets."
   ]
  },
  {
   "cell_type": "markdown",
   "metadata": {},
   "source": [
    "There is snake in a 2D space which the snake's size and width and height of the space are given.There are some specific apples in the board with different scores.If an apple's score is 2 it means that the snake needs to eat 2 apples in that location.The snake has to eat all those apples in the most optimal way.<br>\n",
    "The snake can only change direction in 4 ways which are up,down,left and right.Other than that,it should not hit its own body.<br>\n",
    "Whenever the snake its an apple it will grow in length by one.<br>\n",
    "There are no obstacles in the space and when the snake reaches the walls it can pass through them and come out from the opposite side of the board."
   ]
  },
  {
   "cell_type": "markdown",
   "metadata": {},
   "source": [
    "We have 3 test cases and in each of them the first line indicates width and height of the board, the second line indicates the initial location of the snake, the third is the number of apples and the remaining are the location and score of each apple."
   ]
  },
  {
   "cell_type": "code",
   "execution_count": 3,
   "metadata": {},
   "outputs": [],
   "source": [
    "import csv\n",
    "import operator\n",
    "import copy\n",
    "from queue import LifoQueue\n",
    "from collections import deque\n",
    "import math\n",
    "import time\n",
    "import cProfile\n",
    "import operator\n",
    "import bisect\n",
    "\n",
    "from heapq import heappush, heappop\n"
   ]
  },
  {
   "cell_type": "code",
   "execution_count": 4,
   "metadata": {},
   "outputs": [],
   "source": [
    "LEFT =(0,-1)\n",
    "RIGHT =(0,1)\n",
    "UP =(1,0)\n",
    "DOWN =(-1,0)\n",
    "\n",
    "snake_loc_x, snake_loc_y = 0, 0\n",
    "width, height = 0, 0"
   ]
  },
  {
   "cell_type": "markdown",
   "metadata": {},
   "source": [
    "First step is to open test sets :<br>\n",
    "The below function will open each test and return required variables for search functions."
   ]
  },
  {
   "cell_type": "code",
   "execution_count": 283,
   "metadata": {},
   "outputs": [],
   "source": [
    "def open_allocate(name):\n",
    "    apples =()\n",
    "    with open(name, 'r') as f:\n",
    "        reader = csv.reader(f)\n",
    "        count = 1\n",
    "        for row in reader:\n",
    "            if count ==1:\n",
    "                width , height = int(row[0]),int(row[1])\n",
    "            elif count == 2:\n",
    "                snake_loc_x , snake_loc_y = int(row[0]),int(row[1])\n",
    "            elif count == 3:\n",
    "                num_apples = int(row[0])\n",
    "            else:\n",
    "                value = int(row[2])\n",
    "                while value>0:\n",
    "                    apples =apples +((int(row[0]),int(row[1])),)\n",
    "                    value -=1\n",
    "            count +=1\n",
    "    return width,height,snake_loc_x,snake_loc_y,apples\n"
   ]
  },
  {
   "cell_type": "code",
   "execution_count": 284,
   "metadata": {},
   "outputs": [],
   "source": [
    "width_1,height_1,snake_loc_x_1,snake_loc_y_1,apples_1 = open_allocate('test1.txt')\n",
    "width_2,height_2,snake_loc_x_2,snake_loc_y_2,apples_2 = open_allocate('test2.txt')\n",
    "width_3,height_3,snake_loc_x_3,snake_loc_y_3,apples_3 = open_allocate('test3.txt')\n"
   ]
  },
  {
   "cell_type": "markdown",
   "metadata": {},
   "source": [
    "Now it is time to model the problem:<br>\n",
    "At first I was going to use two classes for node and state but then I figured that this aproach is not good enough because calling those classes takes a lot of time.<br>\n",
    "Then I used tuples to model states and lists for nodes.Each state is 1.the body of snake in the form of tuple of tuples which each tuple is a location in the board ,and 2.apples in the board which is as well tuple of tuples in a way that if there are two apples in one location that location is repeated in my tuple.<br>\n",
    "I did not used sets because order mattered in the body of snake ,and there might be more than one apple in apples ,therefore using sets was impossible.Lists were not good either because of their complexity when copying and assigning.<br>\n",
    "Action is movment of snake and eating or not eating an apple.four directions are assigned above which are UP,DOWN,LEFT and RIGHT. first by adding two tuples next location will be found and added to snake's body.since the snake can come out of the other side of the board the remaining of the calculated value is the real location.Then, snake will move and if there is an apple it will be eaten and removed from apples' tuple and if not tail of snake will be cut.<br>\n",
    "Initial state is first loction of snake and all apples in the board.The final state is when no apple is left in the board meaning that apples' tuple is empty.<br>"
   ]
  },
  {
   "cell_type": "markdown",
   "metadata": {},
   "source": [
    "### BFS"
   ]
  },
  {
   "cell_type": "markdown",
   "metadata": {},
   "source": [
    "Here are the steps for the BFS algorithm:<br>\n",
    "\n",
    "1.Pick a node and enqueue all its adjacent nodes into a queue.<br>\n",
    "\n",
    "2.Dequeue a node from the queue, mark it as visited and enqueue all its adjacent nodes into a queue.<br>\n",
    "\n",
    "3.Repeat this process until the queue is empty or you meet a goal.<br>\n",
    "\n",
    "The program can be stuck in an infinite loop if a node is revisited and was not marked as visited before. Hence, prevent exploring nodes that are visited by marking them as visited."
   ]
  },
  {
   "cell_type": "markdown",
   "metadata": {},
   "source": [
    "since in each iteration there is a search in  explored,set data structure is used which has the average of O(1) for x in s.Since poping and adding to queue happens a lot deque is used for frontier to make sure it is a queue.It will return the final node which conists of snakes body and parent of the node which can be used to print the path."
   ]
  },
  {
   "cell_type": "code",
   "execution_count": 352,
   "metadata": {},
   "outputs": [],
   "source": [
    "different =0 \n",
    "num_node =0\n",
    "def BFS(initial):\n",
    "    global different \n",
    "    global num_node \n",
    "    node =(initial,None)\n",
    "    explored = {initial}\n",
    "    frontier = deque()\n",
    "    frontier.append(node)\n",
    "    while len(frontier) != 0:\n",
    "        current_node = frontier.popleft()\n",
    "        current_state = current_node[0]\n",
    "        body = current_state[0]\n",
    "        apples =current_state[1]\n",
    "        head = body[-1]\n",
    "        #print(head)\n",
    "        explored.add(current_state)\n",
    "        different +=1\n",
    "        for direction in (LEFT,RIGHT,UP,DOWN):\n",
    "            num_node +=1\n",
    "            x=head[0]+direction[0]\n",
    "            y=head[1]+direction[1]\n",
    "            x= x%width \n",
    "            y= y%height\n",
    "            neighbor = (x,y)\n",
    "            if neighbor not in body:\n",
    "                apples_new = apples\n",
    "                body_new = body + (neighbor,)\n",
    "                if neighbor in apples_new  : \n",
    "                    apples_l=list(apples_new)\n",
    "                    apples_l.remove(neighbor)\n",
    "                    apples_new =(tuple(apples_l))\n",
    "                else:\n",
    "                    body_l=list(body_new)\n",
    "                    #print(body_l)\n",
    "                    del body_l[0]\n",
    "                    #print(body_l)\n",
    "                    body_new =(tuple(body_l))\n",
    "                    #print(body_new)\n",
    "                child_state =(body_new,apples_new)\n",
    "                child = [child_state,current_node]\n",
    "                if len(apples_new)==0:\n",
    "                        return child\n",
    "                if child_state not in explored : \n",
    "                    frontier.append(child)"
   ]
  },
  {
   "cell_type": "markdown",
   "metadata": {},
   "source": [
    "Below is the result of BFS for each test.As it is clear first two test are successful in the given time but last one is not."
   ]
  },
  {
   "cell_type": "code",
   "execution_count": 353,
   "metadata": {},
   "outputs": [
    {
     "data": {
      "text/plain": [
       "0.3730032444000244"
      ]
     },
     "execution_count": 353,
     "metadata": {},
     "output_type": "execute_result"
    }
   ],
   "source": [
    "apples =apples_1\n",
    "width , height = width_1,height_1\n",
    "start_pos = (((snake_loc_x_1,snake_loc_y_1),),apples)\n",
    "node_start = [ start_pos,  None]\n",
    "tic =time.time()\n",
    "result =BFS(start_pos)\n",
    "toc = time.time()\n",
    "toc-tic"
   ]
  },
  {
   "cell_type": "code",
   "execution_count": 354,
   "metadata": {},
   "outputs": [
    {
     "name": "stdout",
     "output_type": "stream",
     "text": [
      "18697\n",
      "74785\n"
     ]
    }
   ],
   "source": [
    "print(different)\n",
    "different =0 \n",
    "print(num_node)\n",
    "num_node =0"
   ]
  },
  {
   "cell_type": "code",
   "execution_count": 356,
   "metadata": {},
   "outputs": [
    {
     "data": {
      "text/plain": [
       "5.668881416320801"
      ]
     },
     "execution_count": 356,
     "metadata": {},
     "output_type": "execute_result"
    }
   ],
   "source": [
    "apples =apples_2\n",
    "width , height = width_2,height_2\n",
    "start_pos = (((snake_loc_x_2,snake_loc_y_2),),apples)\n",
    "node_start = [ start_pos,  None]\n",
    "tic =time.time()\n",
    "result =BFS(start_pos)\n",
    "toc = time.time()\n",
    "toc-tic"
   ]
  },
  {
   "cell_type": "code",
   "execution_count": 357,
   "metadata": {},
   "outputs": [
    {
     "name": "stdout",
     "output_type": "stream",
     "text": [
      "308087\n",
      "1232348\n"
     ]
    }
   ],
   "source": [
    "print(different)\n",
    "different =0 \n",
    "print(num_node)\n",
    "num_node =0"
   ]
  },
  {
   "cell_type": "code",
   "execution_count": 349,
   "metadata": {},
   "outputs": [
    {
     "name": "stdout",
     "output_type": "stream",
     "text": [
      "((7, 10), (6, 10), (6, 9), (6, 8), (6, 7), (6, 6), (5, 6))\n",
      "((7, 10), (6, 10), (6, 9), (6, 8), (6, 7), (6, 6))\n",
      "((8, 10), (7, 10), (6, 10), (6, 9), (6, 8), (6, 7))\n",
      "((9, 10), (8, 10), (7, 10), (6, 10), (6, 9), (6, 8))\n",
      "((0, 10), (9, 10), (8, 10), (7, 10), (6, 10), (6, 9))\n",
      "((0, 11), (0, 10), (9, 10), (8, 10), (7, 10), (6, 10))\n",
      "((0, 11), (0, 10), (9, 10), (8, 10), (7, 10))\n",
      "((9, 11), (0, 11), (0, 10), (9, 10), (8, 10))\n",
      "((9, 0), (9, 11), (0, 11), (0, 10), (9, 10))\n",
      "((9, 1), (9, 0), (9, 11), (0, 11), (0, 10))\n",
      "((0, 1), (9, 1), (9, 0), (9, 11), (0, 11))\n",
      "((0, 1), (9, 1), (9, 0), (9, 11))\n",
      "((0, 1), (9, 1), (9, 0))\n",
      "((0, 1), (9, 1))\n",
      "((0, 0), (0, 1))\n",
      "((0, 0),)\n"
     ]
    }
   ],
   "source": [
    "while result!=None:\n",
    "    x=result[0]\n",
    "    print(x[0])\n",
    "    result =result[1]"
   ]
  },
  {
   "cell_type": "code",
   "execution_count": 181,
   "metadata": {},
   "outputs": [
    {
     "name": "stdout",
     "output_type": "stream",
     "text": [
      "         27998439 function calls in 42.569 seconds\n",
      "\n",
      "   Ordered by: standard name\n",
      "\n",
      "   ncalls  tottime  percall  cumtime  percall filename:lineno(function)\n",
      "        1   39.176   39.176   42.569   42.569 <ipython-input-177-22f5cc3b7b90>:1(BFS)\n",
      "        1    0.000    0.000   42.569   42.569 <string>:1(<module>)\n",
      "        1    0.000    0.000   42.569   42.569 {built-in method builtins.exec}\n",
      " 13715675    0.990    0.000    0.990    0.000 {built-in method builtins.len}\n",
      "  3477021    1.531    0.000    1.531    0.000 {method 'add' of 'set' objects}\n",
      "  6962041    0.494    0.000    0.494    0.000 {method 'append' of 'collections.deque' objects}\n",
      "        1    0.000    0.000    0.000    0.000 {method 'disable' of '_lsprof.Profiler' objects}\n",
      "  3477021    0.286    0.000    0.286    0.000 {method 'popleft' of 'collections.deque' objects}\n",
      "   366677    0.092    0.000    0.092    0.000 {method 'remove' of 'list' objects}\n",
      "\n",
      "\n"
     ]
    },
    {
     "ename": "KeyboardInterrupt",
     "evalue": "",
     "output_type": "error",
     "traceback": [
      "\u001b[1;31m---------------------------------------------------------------------------\u001b[0m",
      "\u001b[1;31mKeyboardInterrupt\u001b[0m                         Traceback (most recent call last)",
      "\u001b[1;32m<ipython-input-181-a32170574830>\u001b[0m in \u001b[0;36m<module>\u001b[1;34m\u001b[0m\n\u001b[0;32m      3\u001b[0m \u001b[0mstart_pos\u001b[0m \u001b[1;33m=\u001b[0m \u001b[1;33m(\u001b[0m\u001b[1;33m(\u001b[0m\u001b[1;33m(\u001b[0m\u001b[0msnake_loc_x_3\u001b[0m\u001b[1;33m,\u001b[0m\u001b[0msnake_loc_y_3\u001b[0m\u001b[1;33m)\u001b[0m\u001b[1;33m,\u001b[0m\u001b[1;33m)\u001b[0m\u001b[1;33m,\u001b[0m\u001b[0mapples\u001b[0m\u001b[1;33m)\u001b[0m\u001b[1;33m\u001b[0m\u001b[1;33m\u001b[0m\u001b[0m\n\u001b[0;32m      4\u001b[0m \u001b[0mnode_start\u001b[0m \u001b[1;33m=\u001b[0m \u001b[1;33m[\u001b[0m \u001b[0mstart_pos\u001b[0m\u001b[1;33m,\u001b[0m  \u001b[1;32mNone\u001b[0m\u001b[1;33m]\u001b[0m\u001b[1;33m\u001b[0m\u001b[1;33m\u001b[0m\u001b[0m\n\u001b[1;32m----> 5\u001b[1;33m \u001b[0mcProfile\u001b[0m\u001b[1;33m.\u001b[0m\u001b[0mrun\u001b[0m\u001b[1;33m(\u001b[0m\u001b[1;34m'BFS(start_pos)'\u001b[0m\u001b[1;33m)\u001b[0m\u001b[1;33m\u001b[0m\u001b[1;33m\u001b[0m\u001b[0m\n\u001b[0m",
      "\u001b[1;32m~\\Anaconda3\\lib\\cProfile.py\u001b[0m in \u001b[0;36mrun\u001b[1;34m(statement, filename, sort)\u001b[0m\n\u001b[0;32m     14\u001b[0m \u001b[1;33m\u001b[0m\u001b[0m\n\u001b[0;32m     15\u001b[0m \u001b[1;32mdef\u001b[0m \u001b[0mrun\u001b[0m\u001b[1;33m(\u001b[0m\u001b[0mstatement\u001b[0m\u001b[1;33m,\u001b[0m \u001b[0mfilename\u001b[0m\u001b[1;33m=\u001b[0m\u001b[1;32mNone\u001b[0m\u001b[1;33m,\u001b[0m \u001b[0msort\u001b[0m\u001b[1;33m=\u001b[0m\u001b[1;33m-\u001b[0m\u001b[1;36m1\u001b[0m\u001b[1;33m)\u001b[0m\u001b[1;33m:\u001b[0m\u001b[1;33m\u001b[0m\u001b[1;33m\u001b[0m\u001b[0m\n\u001b[1;32m---> 16\u001b[1;33m     \u001b[1;32mreturn\u001b[0m \u001b[0m_pyprofile\u001b[0m\u001b[1;33m.\u001b[0m\u001b[0m_Utils\u001b[0m\u001b[1;33m(\u001b[0m\u001b[0mProfile\u001b[0m\u001b[1;33m)\u001b[0m\u001b[1;33m.\u001b[0m\u001b[0mrun\u001b[0m\u001b[1;33m(\u001b[0m\u001b[0mstatement\u001b[0m\u001b[1;33m,\u001b[0m \u001b[0mfilename\u001b[0m\u001b[1;33m,\u001b[0m \u001b[0msort\u001b[0m\u001b[1;33m)\u001b[0m\u001b[1;33m\u001b[0m\u001b[1;33m\u001b[0m\u001b[0m\n\u001b[0m\u001b[0;32m     17\u001b[0m \u001b[1;33m\u001b[0m\u001b[0m\n\u001b[0;32m     18\u001b[0m \u001b[1;32mdef\u001b[0m \u001b[0mrunctx\u001b[0m\u001b[1;33m(\u001b[0m\u001b[0mstatement\u001b[0m\u001b[1;33m,\u001b[0m \u001b[0mglobals\u001b[0m\u001b[1;33m,\u001b[0m \u001b[0mlocals\u001b[0m\u001b[1;33m,\u001b[0m \u001b[0mfilename\u001b[0m\u001b[1;33m=\u001b[0m\u001b[1;32mNone\u001b[0m\u001b[1;33m,\u001b[0m \u001b[0msort\u001b[0m\u001b[1;33m=\u001b[0m\u001b[1;33m-\u001b[0m\u001b[1;36m1\u001b[0m\u001b[1;33m)\u001b[0m\u001b[1;33m:\u001b[0m\u001b[1;33m\u001b[0m\u001b[1;33m\u001b[0m\u001b[0m\n",
      "\u001b[1;32m~\\Anaconda3\\lib\\profile.py\u001b[0m in \u001b[0;36mrun\u001b[1;34m(self, statement, filename, sort)\u001b[0m\n\u001b[0;32m     51\u001b[0m         \u001b[0mprof\u001b[0m \u001b[1;33m=\u001b[0m \u001b[0mself\u001b[0m\u001b[1;33m.\u001b[0m\u001b[0mprofiler\u001b[0m\u001b[1;33m(\u001b[0m\u001b[1;33m)\u001b[0m\u001b[1;33m\u001b[0m\u001b[1;33m\u001b[0m\u001b[0m\n\u001b[0;32m     52\u001b[0m         \u001b[1;32mtry\u001b[0m\u001b[1;33m:\u001b[0m\u001b[1;33m\u001b[0m\u001b[1;33m\u001b[0m\u001b[0m\n\u001b[1;32m---> 53\u001b[1;33m             \u001b[0mprof\u001b[0m\u001b[1;33m.\u001b[0m\u001b[0mrun\u001b[0m\u001b[1;33m(\u001b[0m\u001b[0mstatement\u001b[0m\u001b[1;33m)\u001b[0m\u001b[1;33m\u001b[0m\u001b[1;33m\u001b[0m\u001b[0m\n\u001b[0m\u001b[0;32m     54\u001b[0m         \u001b[1;32mexcept\u001b[0m \u001b[0mSystemExit\u001b[0m\u001b[1;33m:\u001b[0m\u001b[1;33m\u001b[0m\u001b[1;33m\u001b[0m\u001b[0m\n\u001b[0;32m     55\u001b[0m             \u001b[1;32mpass\u001b[0m\u001b[1;33m\u001b[0m\u001b[1;33m\u001b[0m\u001b[0m\n",
      "\u001b[1;32m~\\Anaconda3\\lib\\cProfile.py\u001b[0m in \u001b[0;36mrun\u001b[1;34m(self, cmd)\u001b[0m\n\u001b[0;32m     93\u001b[0m         \u001b[1;32mimport\u001b[0m \u001b[0m__main__\u001b[0m\u001b[1;33m\u001b[0m\u001b[1;33m\u001b[0m\u001b[0m\n\u001b[0;32m     94\u001b[0m         \u001b[0mdict\u001b[0m \u001b[1;33m=\u001b[0m \u001b[0m__main__\u001b[0m\u001b[1;33m.\u001b[0m\u001b[0m__dict__\u001b[0m\u001b[1;33m\u001b[0m\u001b[1;33m\u001b[0m\u001b[0m\n\u001b[1;32m---> 95\u001b[1;33m         \u001b[1;32mreturn\u001b[0m \u001b[0mself\u001b[0m\u001b[1;33m.\u001b[0m\u001b[0mrunctx\u001b[0m\u001b[1;33m(\u001b[0m\u001b[0mcmd\u001b[0m\u001b[1;33m,\u001b[0m \u001b[0mdict\u001b[0m\u001b[1;33m,\u001b[0m \u001b[0mdict\u001b[0m\u001b[1;33m)\u001b[0m\u001b[1;33m\u001b[0m\u001b[1;33m\u001b[0m\u001b[0m\n\u001b[0m\u001b[0;32m     96\u001b[0m \u001b[1;33m\u001b[0m\u001b[0m\n\u001b[0;32m     97\u001b[0m     \u001b[1;32mdef\u001b[0m \u001b[0mrunctx\u001b[0m\u001b[1;33m(\u001b[0m\u001b[0mself\u001b[0m\u001b[1;33m,\u001b[0m \u001b[0mcmd\u001b[0m\u001b[1;33m,\u001b[0m \u001b[0mglobals\u001b[0m\u001b[1;33m,\u001b[0m \u001b[0mlocals\u001b[0m\u001b[1;33m)\u001b[0m\u001b[1;33m:\u001b[0m\u001b[1;33m\u001b[0m\u001b[1;33m\u001b[0m\u001b[0m\n",
      "\u001b[1;32m~\\Anaconda3\\lib\\cProfile.py\u001b[0m in \u001b[0;36mrunctx\u001b[1;34m(self, cmd, globals, locals)\u001b[0m\n\u001b[0;32m     98\u001b[0m         \u001b[0mself\u001b[0m\u001b[1;33m.\u001b[0m\u001b[0menable\u001b[0m\u001b[1;33m(\u001b[0m\u001b[1;33m)\u001b[0m\u001b[1;33m\u001b[0m\u001b[1;33m\u001b[0m\u001b[0m\n\u001b[0;32m     99\u001b[0m         \u001b[1;32mtry\u001b[0m\u001b[1;33m:\u001b[0m\u001b[1;33m\u001b[0m\u001b[1;33m\u001b[0m\u001b[0m\n\u001b[1;32m--> 100\u001b[1;33m             \u001b[0mexec\u001b[0m\u001b[1;33m(\u001b[0m\u001b[0mcmd\u001b[0m\u001b[1;33m,\u001b[0m \u001b[0mglobals\u001b[0m\u001b[1;33m,\u001b[0m \u001b[0mlocals\u001b[0m\u001b[1;33m)\u001b[0m\u001b[1;33m\u001b[0m\u001b[1;33m\u001b[0m\u001b[0m\n\u001b[0m\u001b[0;32m    101\u001b[0m         \u001b[1;32mfinally\u001b[0m\u001b[1;33m:\u001b[0m\u001b[1;33m\u001b[0m\u001b[1;33m\u001b[0m\u001b[0m\n\u001b[0;32m    102\u001b[0m             \u001b[0mself\u001b[0m\u001b[1;33m.\u001b[0m\u001b[0mdisable\u001b[0m\u001b[1;33m(\u001b[0m\u001b[1;33m)\u001b[0m\u001b[1;33m\u001b[0m\u001b[1;33m\u001b[0m\u001b[0m\n",
      "\u001b[1;32m<string>\u001b[0m in \u001b[0;36m<module>\u001b[1;34m\u001b[0m\n",
      "\u001b[1;32m<ipython-input-177-22f5cc3b7b90>\u001b[0m in \u001b[0;36mBFS\u001b[1;34m(initial)\u001b[0m\n\u001b[0;32m     37\u001b[0m                         \u001b[1;32mreturn\u001b[0m \u001b[0mchild\u001b[0m\u001b[1;33m\u001b[0m\u001b[1;33m\u001b[0m\u001b[0m\n\u001b[0;32m     38\u001b[0m                 \u001b[1;32mif\u001b[0m \u001b[0mchild_state\u001b[0m \u001b[1;32mnot\u001b[0m \u001b[1;32min\u001b[0m \u001b[0mexplored\u001b[0m \u001b[1;33m:\u001b[0m\u001b[1;33m\u001b[0m\u001b[1;33m\u001b[0m\u001b[0m\n\u001b[1;32m---> 39\u001b[1;33m                     \u001b[0mfrontier\u001b[0m\u001b[1;33m.\u001b[0m\u001b[0mappend\u001b[0m\u001b[1;33m(\u001b[0m\u001b[0mchild\u001b[0m\u001b[1;33m)\u001b[0m\u001b[1;33m\u001b[0m\u001b[1;33m\u001b[0m\u001b[0m\n\u001b[0m",
      "\u001b[1;31mKeyboardInterrupt\u001b[0m: "
     ]
    }
   ],
   "source": [
    "apples =apples_3\n",
    "width , height = width_3,height_3\n",
    "start_pos = (((snake_loc_x_3,snake_loc_y_3),),apples)\n",
    "node_start = [ start_pos,  None]\n",
    "cProfile.run('BFS(start_pos)')\n"
   ]
  },
  {
   "cell_type": "markdown",
   "metadata": {},
   "source": [
    "### IDS"
   ]
  },
  {
   "cell_type": "markdown",
   "metadata": {},
   "source": [
    "DFS first traverses nodes going through one adjacent of root, then next adjacent. By adding a limit to the depth that our search recurses down the tree DFS turns to DLS. IDS calls DLS for different depths starting from an initial value. In every call, DLS is restricted from going beyond given depth."
   ]
  },
  {
   "cell_type": "markdown",
   "metadata": {},
   "source": [
    "To make coming back to each node after expanding it, it is implemented as a recursive function.a global variable is used to store result and the functions only return true or false to stop searching with them as soon as possible."
   ]
  },
  {
   "cell_type": "code",
   "execution_count": 370,
   "metadata": {},
   "outputs": [],
   "source": [
    "goal = None\n",
    "def IDDFS(node ,depth):\n",
    "    global goal\n",
    "    for i in range(depth):\n",
    "        global explored\n",
    "        explored = set()\n",
    "        check = DLS(node,i)\n",
    "        if check == True:\n",
    "            print(i)\n",
    "            break \n",
    "\n",
    "POS, PARENT = range(2)\n",
    "                        \n",
    "def DLS(node,depth):\n",
    "    global goal\n",
    "    global different\n",
    "    global num_node\n",
    "    pos = node[POS]\n",
    "    body = pos[0]\n",
    "    apples =pos[1]\n",
    "    head = body[-1]\n",
    "    explored.add(pos)\n",
    "    different +=1\n",
    "    if ( depth > 0 ):\n",
    "        if len(apples)==0 or goal != None:\n",
    "            return True\n",
    "        else:\n",
    "            for direction in (LEFT,RIGHT,UP,DOWN):\n",
    "                num_node +=1\n",
    "                x=head[0]+direction[0]\n",
    "                y=head[1]+direction[1]\n",
    "                x= x%width \n",
    "                y= y%height\n",
    "                neighbor = (x,y)\n",
    "                if neighbor not in body:\n",
    "                    apples_new = apples\n",
    "                    body_new = body+(neighbor,)\n",
    "                    if neighbor in apples_new  : \n",
    "                        apples_l=list(apples_new)\n",
    "                        apples_l.remove(neighbor)\n",
    "                        apples_new =(tuple(apples_l))\n",
    "                    else:\n",
    "                        body_l=list(body_new)\n",
    "                        body_l.pop(0)\n",
    "                        body_new =(tuple(body_l))\n",
    "                    child_pos =(body_new,apples_new)\n",
    "                    child = [child_pos,node]\n",
    "                    if len(apples_new)==0:\n",
    "                        goal =child\n",
    "                        return True\n",
    "                    else:\n",
    "                        if child_pos not in explored:  \n",
    "                            DLS(child, depth-1)"
   ]
  },
  {
   "cell_type": "markdown",
   "metadata": {},
   "source": [
    "Below are the results of calling IDDFS for each test."
   ]
  },
  {
   "cell_type": "code",
   "execution_count": 371,
   "metadata": {},
   "outputs": [
    {
     "name": "stdout",
     "output_type": "stream",
     "text": [
      "19\n"
     ]
    },
    {
     "data": {
      "text/plain": [
       "0.05285906791687012"
      ]
     },
     "execution_count": 371,
     "metadata": {},
     "output_type": "execute_result"
    }
   ],
   "source": [
    "apples =apples_1\n",
    "width , height = width_1,height_1\n",
    "start_pos = (((snake_loc_x_1,snake_loc_y_1),),apples)\n",
    "node_start = [ start_pos,  None]\n",
    "tic =time.time()\n",
    "IDDFS(node_start,300)\n",
    "toc = time.time()\n",
    "toc-tic"
   ]
  },
  {
   "cell_type": "code",
   "execution_count": 364,
   "metadata": {},
   "outputs": [
    {
     "name": "stdout",
     "output_type": "stream",
     "text": [
      "7329\n",
      "12917\n"
     ]
    }
   ],
   "source": [
    "print(different)\n",
    "different =0 \n",
    "print(num_node)\n",
    "num_node =0"
   ]
  },
  {
   "cell_type": "code",
   "execution_count": 365,
   "metadata": {},
   "outputs": [
    {
     "name": "stdout",
     "output_type": "stream",
     "text": [
      "((1, 3), (0, 3), (4, 3), (4, 2), (3, 2), (3, 1))\n",
      "((1, 3), (0, 3), (4, 3), (4, 2), (3, 2))\n",
      "((1, 3), (0, 3), (4, 3), (4, 2))\n",
      "((1, 4), (1, 3), (0, 3), (4, 3))\n",
      "((1, 4), (1, 3), (0, 3))\n",
      "((1, 0), (1, 4), (1, 3))\n",
      "((1, 1), (1, 0), (1, 4))\n",
      "((1, 1), (1, 0))\n",
      "((1, 2), (1, 1))\n",
      "((1, 3), (1, 2))\n",
      "((1, 4), (1, 3))\n",
      "((1, 0), (1, 4))\n",
      "((1, 0),)\n",
      "((1, 1),)\n",
      "((0, 1),)\n",
      "((0, 2),)\n",
      "((0, 3),)\n",
      "((0, 4),)\n",
      "((0, 0),)\n"
     ]
    }
   ],
   "source": [
    "while goal!=None:\n",
    "    x=goal[0]\n",
    "    print(x[0])\n",
    "    goal =goal[1]"
   ]
  },
  {
   "cell_type": "code",
   "execution_count": 373,
   "metadata": {},
   "outputs": [],
   "source": [
    "goal = None"
   ]
  },
  {
   "cell_type": "code",
   "execution_count": 374,
   "metadata": {},
   "outputs": [
    {
     "name": "stdout",
     "output_type": "stream",
     "text": [
      "25\n"
     ]
    },
    {
     "data": {
      "text/plain": [
       "0.9026787281036377"
      ]
     },
     "execution_count": 374,
     "metadata": {},
     "output_type": "execute_result"
    }
   ],
   "source": [
    "apples =apples_2\n",
    "width , height = width_2,height_2\n",
    "start_pos = (((snake_loc_x_2,snake_loc_y_2),),apples)\n",
    "node_start = [ start_pos,  None]\n",
    "tic =time.time()\n",
    "IDDFS(node_start,300)\n",
    "toc = time.time()\n",
    "toc-tic"
   ]
  },
  {
   "cell_type": "code",
   "execution_count": 368,
   "metadata": {},
   "outputs": [
    {
     "name": "stdout",
     "output_type": "stream",
     "text": [
      "101798\n",
      "207912\n"
     ]
    }
   ],
   "source": [
    "print(different)\n",
    "different =0 \n",
    "print(num_node)\n",
    "num_node =0\n"
   ]
  },
  {
   "cell_type": "code",
   "execution_count": 369,
   "metadata": {},
   "outputs": [
    {
     "name": "stdout",
     "output_type": "stream",
     "text": [
      "((7, 10), (6, 10), (6, 9), (6, 8), (6, 7), (6, 6), (5, 6))\n",
      "((7, 10), (6, 10), (6, 9), (6, 8), (6, 7), (6, 6))\n",
      "((8, 10), (7, 10), (6, 10), (6, 9), (6, 8), (6, 7))\n",
      "((9, 10), (8, 10), (7, 10), (6, 10), (6, 9), (6, 8))\n",
      "((9, 11), (9, 10), (8, 10), (7, 10), (6, 10), (6, 9))\n",
      "((9, 0), (9, 11), (9, 10), (8, 10), (7, 10), (6, 10))\n",
      "((9, 0), (9, 11), (9, 10), (8, 10), (7, 10))\n",
      "((9, 1), (9, 0), (9, 11), (9, 10), (8, 10))\n",
      "((0, 1), (9, 1), (9, 0), (9, 11), (9, 10))\n",
      "((0, 2), (0, 1), (9, 1), (9, 0), (9, 11))\n",
      "((0, 2), (0, 1), (9, 1), (9, 0))\n",
      "((0, 2), (0, 1), (9, 1))\n",
      "((0, 3), (0, 2), (0, 1))\n",
      "((0, 3), (0, 2))\n",
      "((0, 4), (0, 3))\n",
      "((0, 5), (0, 4))\n",
      "((0, 6), (0, 5))\n",
      "((0, 7), (0, 6))\n",
      "((0, 8), (0, 7))\n",
      "((0, 9), (0, 8))\n",
      "((0, 10), (0, 9))\n",
      "((0, 11), (0, 10))\n",
      "((0, 0), (0, 11))\n",
      "((0, 0),)\n"
     ]
    }
   ],
   "source": [
    "while goal!=None:\n",
    "    x=goal[0]\n",
    "    print(x[0])\n",
    "    goal =goal[1]"
   ]
  },
  {
   "cell_type": "code",
   "execution_count": 375,
   "metadata": {},
   "outputs": [],
   "source": [
    "goal =None"
   ]
  },
  {
   "cell_type": "code",
   "execution_count": 376,
   "metadata": {},
   "outputs": [
    {
     "name": "stdout",
     "output_type": "stream",
     "text": [
      "68\n"
     ]
    },
    {
     "data": {
      "text/plain": [
       "3.592398166656494"
      ]
     },
     "execution_count": 376,
     "metadata": {},
     "output_type": "execute_result"
    }
   ],
   "source": [
    "apples =apples_3\n",
    "width , height = width_3,height_3\n",
    "start_pos = (((snake_loc_x_3,snake_loc_y_3),),apples)\n",
    "node_start = [ start_pos,  None]\n",
    "tic =time.time()\n",
    "IDDFS(node_start,300)\n",
    "toc = time.time()\n",
    "toc-tic"
   ]
  },
  {
   "cell_type": "code",
   "execution_count": 377,
   "metadata": {},
   "outputs": [
    {
     "name": "stdout",
     "output_type": "stream",
     "text": [
      "532685\n",
      "1116054\n",
      "((3, 4), (3, 5), (3, 6), (3, 7), (3, 8), (4, 8), (4, 7), (5, 7))\n",
      "((3, 4), (3, 5), (3, 6), (3, 7), (3, 8), (4, 8), (4, 7))\n",
      "((3, 3), (3, 4), (3, 5), (3, 6), (3, 7), (3, 8), (4, 8))\n",
      "((3, 2), (3, 3), (3, 4), (3, 5), (3, 6), (3, 7), (3, 8))\n",
      "((3, 1), (3, 2), (3, 3), (3, 4), (3, 5), (3, 6), (3, 7))\n",
      "((3, 0), (3, 1), (3, 2), (3, 3), (3, 4), (3, 5), (3, 6))\n",
      "((4, 0), (3, 0), (3, 1), (3, 2), (3, 3), (3, 4), (3, 5))\n",
      "((4, 9), (4, 0), (3, 0), (3, 1), (3, 2), (3, 3), (3, 4))\n",
      "((4, 9), (4, 0), (3, 0), (3, 1), (3, 2), (3, 3))\n",
      "((3, 9), (4, 9), (4, 0), (3, 0), (3, 1), (3, 2))\n",
      "((2, 9), (3, 9), (4, 9), (4, 0), (3, 0), (3, 1))\n",
      "((2, 0), (2, 9), (3, 9), (4, 9), (4, 0), (3, 0))\n",
      "((2, 1), (2, 0), (2, 9), (3, 9), (4, 9), (4, 0))\n",
      "((2, 2), (2, 1), (2, 0), (2, 9), (3, 9), (4, 9))\n",
      "((2, 2), (2, 1), (2, 0), (2, 9), (3, 9))\n",
      "((2, 3), (2, 2), (2, 1), (2, 0), (2, 9))\n",
      "((3, 3), (2, 3), (2, 2), (2, 1), (2, 0))\n",
      "((3, 4), (3, 3), (2, 3), (2, 2), (2, 1))\n",
      "((4, 4), (3, 4), (3, 3), (2, 3), (2, 2))\n",
      "((4, 4), (3, 4), (3, 3), (2, 3))\n",
      "((5, 4), (4, 4), (3, 4), (3, 3))\n",
      "((5, 5), (5, 4), (4, 4), (3, 4))\n",
      "((5, 5), (5, 4), (4, 4))\n",
      "((5, 6), (5, 5), (5, 4))\n",
      "((5, 7), (5, 6), (5, 5))\n",
      "((5, 8), (5, 7), (5, 6))\n",
      "((5, 9), (5, 8), (5, 7))\n",
      "((5, 9), (5, 8))\n",
      "((6, 9), (5, 9))\n",
      "((6, 0), (6, 9))\n",
      "((6, 1), (6, 0))\n",
      "((7, 1), (6, 1))\n",
      "((7, 2), (7, 1))\n",
      "((7, 3), (7, 2))\n",
      "((7, 4), (7, 3))\n",
      "((7, 5), (7, 4))\n",
      "((7, 6), (7, 5))\n",
      "((7, 7), (7, 6))\n",
      "((7, 8), (7, 7))\n",
      "((7, 9), (7, 8))\n",
      "((7, 0), (7, 9))\n",
      "((7, 1), (7, 0))\n",
      "((8, 1), (7, 1))\n",
      "((8, 2), (8, 1))\n",
      "((8, 3), (8, 2))\n",
      "((8, 4), (8, 3))\n",
      "((8, 5), (8, 4))\n",
      "((8, 6), (8, 5))\n",
      "((8, 7), (8, 6))\n",
      "((8, 8), (8, 7))\n",
      "((8, 9), (8, 8))\n",
      "((8, 0), (8, 9))\n",
      "((8, 1), (8, 0))\n",
      "((9, 1), (8, 1))\n",
      "((0, 1), (9, 1))\n",
      "((0, 1),)\n",
      "((0, 2),)\n",
      "((0, 3),)\n",
      "((0, 4),)\n",
      "((0, 5),)\n",
      "((0, 6),)\n",
      "((0, 7),)\n",
      "((0, 8),)\n",
      "((0, 9),)\n",
      "((0, 0),)\n"
     ]
    }
   ],
   "source": [
    "print(different)\n",
    "different =0 \n",
    "print(num_node)\n",
    "num_node =0\n",
    "while goal!=None:\n",
    "    x=goal[0]\n",
    "    print(x[0])\n",
    "    goal =goal[1]"
   ]
  },
  {
   "cell_type": "markdown",
   "metadata": {},
   "source": [
    "### A*"
   ]
  },
  {
   "cell_type": "markdown",
   "metadata": {},
   "source": [
    "In A start each node has an estimated cost to get to final state.Nodes will go to list in a way that the first one has the least expected cost.The heuristic used in A star is a user defined function which estimates the distance from a given point to the destination.<br>\n",
    "I am using two distance function for heuristic manhatan and eulicean.In each heuristic total distance of snake's head to all apples is returened based on one of the distance functions. "
   ]
  },
  {
   "cell_type": "code",
   "execution_count": 286,
   "metadata": {},
   "outputs": [],
   "source": [
    "def return_manhattan_distance(coord1, coord2):\n",
    "    x1, y1 = coord1\n",
    "    x2, y2 = coord2\n",
    "    return float(abs(x2-x1) + abs(y2-y1))\n",
    "\n",
    "def return_euclidean_distance(coord1, coord2):\n",
    "    x1, y1 = coord1\n",
    "    x2, y2 = coord2\n",
    "    x_dist_sq = math.pow((x2-x1), 2)\n",
    "    y_dist_sq = math.pow((y2-y1), 2)\n",
    "    return math.sqrt(x_dist_sq + y_dist_sq)\n",
    "\n",
    "def heuristic_eu(pos):\n",
    "    apples = pos[1]\n",
    "    body = pos[0]\n",
    "    head = body[-1]\n",
    "    heu =0\n",
    "    for apple in apples:\n",
    "        x,y =apple[0],apple[1]\n",
    "        heu += return_euclidean_distance((x,y),head)\n",
    "    return heu\n",
    "\n",
    "def heuristic_man(pos):\n",
    "    apples = pos[1]\n",
    "    body = pos[0]\n",
    "    head = body[-1]\n",
    "    heu =0\n",
    "    for apple in apples:\n",
    "        x,y =apple[0],apple[1]\n",
    "        heu += return_manhattan_distance((x,y),head)\n",
    "    return heu"
   ]
  },
  {
   "cell_type": "markdown",
   "metadata": {},
   "source": [
    "Both heuristics are admissible and consistent because real distance is less than a straight line or going along axes and real distance is at any time more than or equal to expected distance."
   ]
  },
  {
   "cell_type": "markdown",
   "metadata": {},
   "source": [
    "Since nodes have to be sorted, heap is used to handle them (adding and poping) because its more optimal in comparison to other data structures.In this algorithm each node is consist of seven values in a list.first three values are f,h ,and g function values of the node then it is the state(coded as POS) and finally it comes to OPEN indicating wether we have seen the node previously or not, VALID showing that there is a better path to this node by being false ,and parent node."
   ]
  },
  {
   "cell_type": "code",
   "execution_count": 419,
   "metadata": {},
   "outputs": [],
   "source": [
    "F, H, G, POS, OPEN, VALID, PARENT = range(7)\n",
    "\n",
    "\n",
    "def astar(start_pos, neighbors, goal, start_g, heuristic,alpha):\n",
    "    global different\n",
    "    global num_node\n",
    "    start_h = heuristic(start_pos)\n",
    "    start = [ start_g + (start_h*alpha),start_h, start_g, start_pos, True,True, None]\n",
    "\n",
    "    # Track all nodes seen so far.\n",
    "    nodes = {start_pos: start}\n",
    "    # Maintain a heap of nodes.\n",
    "    heap = [start]\n",
    "\n",
    "    # Track the best path found so far.\n",
    "    best = start\n",
    "\n",
    "    while heap:\n",
    "        current = heappop(heap)\n",
    "        current[OPEN] = False\n",
    "        # Have we reached the goal?\n",
    "        if goal(current[POS]):\n",
    "            best = current\n",
    "            break\n",
    "        different +=1\n",
    "        # Visit the neighbors of the current node.\n",
    "        for neighbor_pos in neighbors(current[POS]):\n",
    "            num_node +=1\n",
    "            neighbor_g = current[G] +1\n",
    "            neighbor = nodes.get(neighbor_pos)\n",
    "            if neighbor is None:\n",
    "                # We have found a new node.\n",
    "                neighbor_h = heuristic(neighbor_pos)\n",
    "                neighbor = [neighbor_g + (neighbor_h*alpha), neighbor_h, neighbor_g, neighbor_pos, True, True, current]\n",
    "                nodes[neighbor_pos] = neighbor\n",
    "                heappush(heap, neighbor)\n",
    "                if neighbor_h < best[H]:\n",
    "                    best = neighbor\n",
    "\n",
    "            elif neighbor_g < neighbor[G]:\n",
    "\n",
    "                # We have found a better path to the neighbor.\n",
    "                if neighbor[OPEN]:\n",
    "\n",
    "                    neighbor[VALID] = False\n",
    "                    nodes[neighbor_pos] = neighbor = neighbor[:]\n",
    "                    neighbor[F] = neighbor_g + (neighbor[H]*alpha)\n",
    "                    neighbor[G] = neighbor_g\n",
    "                    neighbor[VALID] = True\n",
    "                    neighbor[PARENT] = current\n",
    "                    heappush(heap, neighbor)\n",
    "\n",
    "                else:\n",
    "\n",
    "                    # Reopen the neighbor.\n",
    "                    neighbor[F] = neighbor_g + (neighbor[H]*alpha)\n",
    "                    neighbor[G] = neighbor_g\n",
    "                    neighbor[PARENT] = current\n",
    "                    neighbor[OPEN] = True\n",
    "                    heappush(heap, neighbor)\n",
    "        while heap and not heap[0][VALID]:\n",
    "            heappop(heap)\n",
    "            \n",
    "    return best"
   ]
  },
  {
   "cell_type": "code",
   "execution_count": null,
   "metadata": {},
   "outputs": [],
   "source": [
    " "
   ]
  },
  {
   "cell_type": "markdown",
   "metadata": {},
   "source": [
    "I have commented each step in the function above.Just for it to be more understandable I seperated neighbor functon and goal function.neighbors return four locatons in the board where snake can go.goal is returning wether we have reached final or not."
   ]
  },
  {
   "cell_type": "code",
   "execution_count": 393,
   "metadata": {},
   "outputs": [],
   "source": [
    "def neighbors(pos):\n",
    "    body = pos[0]\n",
    "    apples =pos[1]\n",
    "    head = body[-1]\n",
    "    for direction in (LEFT,RIGHT,UP,DOWN):\n",
    "        x=head[0]+direction[0]\n",
    "        y=head[1]+direction[1]\n",
    "        x= x%width \n",
    "        y= y%height\n",
    "        neighbor = (x,y)\n",
    "        if neighbor not in body:\n",
    "            apples_new = apples\n",
    "            body_new = body+(neighbor,)\n",
    "            if neighbor in apples_new  : \n",
    "                apples_l=list(apples_new)\n",
    "                apples_l.remove(neighbor)\n",
    "                apples_new =(tuple(apples_l))\n",
    "            else:\n",
    "                body_l=list(body_new)\n",
    "                body_l.pop(0)\n",
    "                body_new =(tuple(body_l))\n",
    "            yield (body_new,apples_new)\n",
    "        \n",
    "def goal(pos):\n",
    "    apples = pos[1]\n",
    "    if len(apples)==0:\n",
    "        return True\n",
    "    else:\n",
    "        return False"
   ]
  },
  {
   "cell_type": "markdown",
   "metadata": {},
   "source": [
    "By passing one as alpha we have simple A* which its result are as below."
   ]
  },
  {
   "cell_type": "code",
   "execution_count": 396,
   "metadata": {},
   "outputs": [
    {
     "data": {
      "text/plain": [
       "0.000997304916381836"
      ]
     },
     "execution_count": 396,
     "metadata": {},
     "output_type": "execute_result"
    }
   ],
   "source": [
    "apples =apples_1\n",
    "width , height = width_1,height_1\n",
    "start_pos = (((snake_loc_x_1,snake_loc_y_1),),apples)\n",
    "node_start = [ start_pos,  None]\n",
    "tic =time.time()\n",
    "best =astar(start_pos, neighbors, goal,0, heuristic_eu,1)\n",
    "toc = time.time()\n",
    "toc-tic"
   ]
  },
  {
   "cell_type": "code",
   "execution_count": 397,
   "metadata": {},
   "outputs": [
    {
     "name": "stdout",
     "output_type": "stream",
     "text": [
      "50\n",
      "146\n",
      "((3, 1), (2, 1), (2, 2), (2, 3), (1, 3), (1, 4))\n",
      "((3, 1), (2, 1), (2, 2), (2, 3), (1, 3))\n",
      "((3, 2), (3, 1), (2, 1), (2, 2), (2, 3))\n",
      "((4, 2), (3, 2), (3, 1), (2, 1), (2, 2))\n",
      "((4, 3), (4, 2), (3, 2), (3, 1), (2, 1))\n",
      "((3, 3), (4, 3), (4, 2), (3, 2), (3, 1))\n",
      "((3, 3), (4, 3), (4, 2), (3, 2))\n",
      "((3, 3), (4, 3), (4, 2))\n",
      "((2, 3), (3, 3), (4, 3))\n",
      "((2, 3), (3, 3))\n",
      "((2, 4), (2, 3))\n",
      "((1, 4), (2, 4))\n",
      "((0, 4), (1, 4))\n",
      "((0, 4),)\n"
     ]
    }
   ],
   "source": [
    "print(different)\n",
    "different =0 \n",
    "print(num_node)\n",
    "num_node =0\n",
    "while best[PARENT]!=None:\n",
    "    state =best[POS]\n",
    "    print(state[0])\n",
    "    best = best[PARENT]"
   ]
  },
  {
   "cell_type": "code",
   "execution_count": 297,
   "metadata": {},
   "outputs": [
    {
     "data": {
      "text/plain": [
       "0.0009982585906982422"
      ]
     },
     "execution_count": 297,
     "metadata": {},
     "output_type": "execute_result"
    }
   ],
   "source": [
    "apples =apples_1\n",
    "width , height = width_1,height_1\n",
    "start_pos = (((snake_loc_x_1,snake_loc_y_1),),apples)\n",
    "node_start = [ start_pos,  None]\n",
    "tic =time.time()\n",
    "best =astar(start_pos, neighbors, goal,0, heuristic_man,1)\n",
    "toc = time.time()\n",
    "toc-tic"
   ]
  },
  {
   "cell_type": "code",
   "execution_count": 298,
   "metadata": {},
   "outputs": [
    {
     "data": {
      "text/plain": [
       "(((3, 1), (2, 1), (1, 1), (1, 2), (1, 3), (1, 4)), ())"
      ]
     },
     "execution_count": 298,
     "metadata": {},
     "output_type": "execute_result"
    }
   ],
   "source": [
    "best[POS]"
   ]
  },
  {
   "cell_type": "code",
   "execution_count": 303,
   "metadata": {},
   "outputs": [
    {
     "data": {
      "text/plain": [
       "0.0059850215911865234"
      ]
     },
     "execution_count": 303,
     "metadata": {},
     "output_type": "execute_result"
    }
   ],
   "source": [
    "apples =apples_2\n",
    "width , height = width_2,height_2\n",
    "start_pos = (((snake_loc_x_2,snake_loc_y_2),),apples)\n",
    "node_start = [ start_pos,  None]\n",
    "tic =time.time()\n",
    "best =astar(start_pos, neighbors, goal,0, heuristic_man,1)\n",
    "toc = time.time()\n",
    "toc-tic"
   ]
  },
  {
   "cell_type": "code",
   "execution_count": 304,
   "metadata": {},
   "outputs": [
    {
     "data": {
      "text/plain": [
       "(((1, 6), (0, 6), (0, 5), (0, 4), (0, 3), (0, 2), (0, 1)), ())"
      ]
     },
     "execution_count": 304,
     "metadata": {},
     "output_type": "execute_result"
    }
   ],
   "source": [
    "best[POS]"
   ]
  },
  {
   "cell_type": "code",
   "execution_count": 398,
   "metadata": {},
   "outputs": [
    {
     "data": {
      "text/plain": [
       "0.003988504409790039"
      ]
     },
     "execution_count": 398,
     "metadata": {},
     "output_type": "execute_result"
    }
   ],
   "source": [
    "apples =apples_2\n",
    "width , height = width_2,height_2\n",
    "start_pos = (((snake_loc_x_2,snake_loc_y_2),),apples)\n",
    "node_start = [ start_pos,  None]\n",
    "tic =time.time()\n",
    "best =astar(start_pos, neighbors, goal,0, heuristic_eu,1)\n",
    "toc = time.time()\n",
    "toc-tic"
   ]
  },
  {
   "cell_type": "code",
   "execution_count": 399,
   "metadata": {},
   "outputs": [
    {
     "name": "stdout",
     "output_type": "stream",
     "text": [
      "73\n",
      "218\n",
      "((6, 6), (5, 6), (5, 7), (5, 8), (5, 9), (5, 10), (6, 10))\n",
      "((6, 6), (5, 6), (5, 7), (5, 8), (5, 9), (5, 10))\n",
      "((7, 6), (6, 6), (5, 6), (5, 7), (5, 8), (5, 9))\n",
      "((7, 5), (7, 6), (6, 6), (5, 6), (5, 7), (5, 8))\n",
      "((8, 5), (7, 5), (7, 6), (6, 6), (5, 6), (5, 7))\n",
      "((8, 4), (8, 5), (7, 5), (7, 6), (6, 6), (5, 6))\n",
      "((8, 4), (8, 5), (7, 5), (7, 6), (6, 6))\n",
      "((9, 4), (8, 4), (8, 5), (7, 5), (7, 6))\n",
      "((9, 3), (9, 4), (8, 4), (8, 5), (7, 5))\n",
      "((9, 2), (9, 3), (9, 4), (8, 4), (8, 5))\n",
      "((0, 2), (9, 2), (9, 3), (9, 4), (8, 4))\n",
      "((0, 1), (0, 2), (9, 2), (9, 3), (9, 4))\n",
      "((9, 1), (0, 1), (0, 2), (9, 2), (9, 3))\n",
      "((9, 0), (9, 1), (0, 1), (0, 2), (9, 2))\n",
      "((9, 11), (9, 0), (9, 1), (0, 1), (0, 2))\n",
      "((0, 11), (9, 11), (9, 0), (9, 1), (0, 1))\n",
      "((0, 11), (9, 11), (9, 0), (9, 1))\n",
      "((0, 0), (0, 11), (9, 11), (9, 0))\n",
      "((0, 0), (0, 11), (9, 11))\n",
      "((0, 0), (0, 11))\n"
     ]
    }
   ],
   "source": [
    "print(different)\n",
    "different =0 \n",
    "print(num_node)\n",
    "num_node =0\n",
    "while best[PARENT]!=None:\n",
    "    state =best[POS]\n",
    "    print(state[0])\n",
    "    best = best[PARENT]"
   ]
  },
  {
   "cell_type": "code",
   "execution_count": 306,
   "metadata": {},
   "outputs": [
    {
     "data": {
      "text/plain": [
       "0.02689361572265625"
      ]
     },
     "execution_count": 306,
     "metadata": {},
     "output_type": "execute_result"
    }
   ],
   "source": [
    "apples =apples_3\n",
    "width , height = width_3,height_3\n",
    "start_pos = (((snake_loc_x_3,snake_loc_y_3),),apples)\n",
    "node_start = [ start_pos,  None]\n",
    "tic =time.time()\n",
    "best =astar(start_pos, neighbors, goal,0, heuristic_man,1)\n",
    "toc = time.time()\n",
    "toc-tic"
   ]
  },
  {
   "cell_type": "code",
   "execution_count": 307,
   "metadata": {},
   "outputs": [
    {
     "data": {
      "text/plain": [
       "(((6, 5), (6, 4), (6, 3), (6, 2), (6, 1), (7, 1), (8, 1), (9, 1)), ())"
      ]
     },
     "execution_count": 307,
     "metadata": {},
     "output_type": "execute_result"
    }
   ],
   "source": [
    "best[POS]"
   ]
  },
  {
   "cell_type": "code",
   "execution_count": 400,
   "metadata": {},
   "outputs": [
    {
     "data": {
      "text/plain": [
       "0.07880115509033203"
      ]
     },
     "execution_count": 400,
     "metadata": {},
     "output_type": "execute_result"
    }
   ],
   "source": [
    "apples =apples_3\n",
    "width , height = width_3,height_3\n",
    "start_pos = (((snake_loc_x_3,snake_loc_y_3),),apples)\n",
    "node_start = [ start_pos,  None]\n",
    "tic =time.time()\n",
    "best =astar(start_pos, neighbors, goal,0, heuristic_eu,1)\n",
    "toc = time.time()\n",
    "toc-tic"
   ]
  },
  {
   "cell_type": "code",
   "execution_count": 401,
   "metadata": {},
   "outputs": [
    {
     "name": "stdout",
     "output_type": "stream",
     "text": [
      "1441\n",
      "4039\n",
      "((3, 2), (4, 2), (5, 2), (6, 2), (7, 2), (8, 2), (8, 1), (9, 1))\n",
      "((3, 2), (4, 2), (5, 2), (6, 2), (7, 2), (8, 2), (8, 1))\n",
      "((3, 3), (3, 2), (4, 2), (5, 2), (6, 2), (7, 2), (8, 2))\n",
      "((3, 4), (3, 3), (3, 2), (4, 2), (5, 2), (6, 2), (7, 2))\n",
      "((3, 5), (3, 4), (3, 3), (3, 2), (4, 2), (5, 2), (6, 2))\n",
      "((3, 6), (3, 5), (3, 4), (3, 3), (3, 2), (4, 2), (5, 2))\n",
      "((4, 6), (3, 6), (3, 5), (3, 4), (3, 3), (3, 2), (4, 2))\n",
      "((5, 6), (4, 6), (3, 6), (3, 5), (3, 4), (3, 3), (3, 2))\n",
      "((5, 7), (5, 6), (4, 6), (3, 6), (3, 5), (3, 4), (3, 3))\n",
      "((4, 7), (5, 7), (5, 6), (4, 6), (3, 6), (3, 5), (3, 4))\n",
      "((4, 7), (5, 7), (5, 6), (4, 6), (3, 6), (3, 5))\n",
      "((4, 8), (4, 7), (5, 7), (5, 6), (4, 6), (3, 6))\n",
      "((4, 9), (4, 8), (4, 7), (5, 7), (5, 6), (4, 6))\n",
      "((5, 9), (4, 9), (4, 8), (4, 7), (5, 7), (5, 6))\n",
      "((5, 8), (5, 9), (4, 9), (4, 8), (4, 7), (5, 7))\n",
      "((5, 8), (5, 9), (4, 9), (4, 8), (4, 7))\n",
      "((5, 7), (5, 8), (5, 9), (4, 9), (4, 8))\n",
      "((4, 7), (5, 7), (5, 8), (5, 9), (4, 9))\n",
      "((4, 7), (5, 7), (5, 8), (5, 9))\n",
      "((3, 7), (4, 7), (5, 7), (5, 8))\n",
      "((3, 6), (3, 7), (4, 7), (5, 7))\n",
      "((3, 6), (3, 7), (4, 7))\n",
      "((3, 5), (3, 6), (3, 7))\n",
      "((3, 4), (3, 5), (3, 6))\n",
      "((3, 3), (3, 4), (3, 5))\n",
      "((2, 3), (3, 3), (3, 4))\n",
      "((2, 3), (3, 3))\n",
      "((2, 2), (2, 3))\n",
      "((1, 2), (2, 2))\n",
      "((1, 2),)\n",
      "((1, 1),)\n",
      "((0, 1),)\n"
     ]
    }
   ],
   "source": [
    "print(different)\n",
    "different =0 \n",
    "print(num_node)\n",
    "num_node =0\n",
    "while best[PARENT]!=None:\n",
    "    state =best[POS]\n",
    "    print(state[0])\n",
    "    best = best[PARENT]"
   ]
  },
  {
   "cell_type": "markdown",
   "metadata": {},
   "source": [
    "Below are weighted A* by eulicean heuristic and alpha as 2 and 4."
   ]
  },
  {
   "cell_type": "code",
   "execution_count": 402,
   "metadata": {},
   "outputs": [
    {
     "data": {
      "text/plain": [
       "0.0009968280792236328"
      ]
     },
     "execution_count": 402,
     "metadata": {},
     "output_type": "execute_result"
    }
   ],
   "source": [
    "apples =apples_1\n",
    "width , height = width_1,height_1\n",
    "start_pos = (((snake_loc_x_1,snake_loc_y_1),),apples)\n",
    "node_start = [ start_pos,  None]\n",
    "tic =time.time()\n",
    "best =astar(start_pos, neighbors, goal,0, heuristic_eu,4)\n",
    "toc = time.time()\n",
    "toc-tic"
   ]
  },
  {
   "cell_type": "code",
   "execution_count": 403,
   "metadata": {},
   "outputs": [
    {
     "name": "stdout",
     "output_type": "stream",
     "text": [
      "19\n",
      "58\n",
      "((1, 3), (1, 4), (1, 0), (2, 0), (2, 1), (3, 1))\n",
      "((1, 3), (1, 4), (1, 0), (2, 0), (2, 1))\n",
      "((0, 3), (1, 3), (1, 4), (1, 0), (2, 0))\n",
      "((4, 3), (0, 3), (1, 3), (1, 4), (1, 0))\n",
      "((4, 2), (4, 3), (0, 3), (1, 3), (1, 4))\n",
      "((4, 2), (4, 3), (0, 3), (1, 3))\n",
      "((3, 2), (4, 2), (4, 3), (0, 3))\n",
      "((3, 3), (3, 2), (4, 2), (4, 3))\n",
      "((3, 3), (3, 2), (4, 2))\n",
      "((2, 3), (3, 3), (3, 2))\n",
      "((2, 3), (3, 3))\n",
      "((2, 4), (2, 3))\n",
      "((1, 4), (2, 4))\n",
      "((0, 4), (1, 4))\n",
      "((0, 4),)\n"
     ]
    }
   ],
   "source": [
    "print(different)\n",
    "different =0 \n",
    "print(num_node)\n",
    "num_node =0\n",
    "while best[PARENT]!=None:\n",
    "    state =best[POS]\n",
    "    print(state[0])\n",
    "    best = best[PARENT]"
   ]
  },
  {
   "cell_type": "code",
   "execution_count": 421,
   "metadata": {},
   "outputs": [
    {
     "data": {
      "text/plain": [
       "0.0009975433349609375"
      ]
     },
     "execution_count": 421,
     "metadata": {},
     "output_type": "execute_result"
    }
   ],
   "source": [
    "apples =apples_1\n",
    "width , height = width_1,height_1\n",
    "start_pos = (((snake_loc_x_1,snake_loc_y_1),),apples)\n",
    "node_start = [ start_pos,  None]\n",
    "tic =time.time()\n",
    "best =astar(start_pos, neighbors, goal,0, heuristic_eu,2)\n",
    "toc = time.time()\n",
    "toc-tic"
   ]
  },
  {
   "cell_type": "code",
   "execution_count": 422,
   "metadata": {},
   "outputs": [
    {
     "name": "stdout",
     "output_type": "stream",
     "text": [
      "59\n",
      "182\n",
      "((1, 3), (1, 4), (1, 0), (2, 0), (2, 1), (3, 1))\n",
      "((1, 3), (1, 4), (1, 0), (2, 0), (2, 1))\n",
      "((0, 3), (1, 3), (1, 4), (1, 0), (2, 0))\n",
      "((4, 3), (0, 3), (1, 3), (1, 4), (1, 0))\n",
      "((3, 3), (4, 3), (0, 3), (1, 3), (1, 4))\n",
      "((3, 3), (4, 3), (0, 3), (1, 3))\n",
      "((3, 2), (3, 3), (4, 3), (0, 3))\n",
      "((2, 2), (3, 2), (3, 3), (4, 3))\n",
      "((2, 2), (3, 2), (3, 3))\n",
      "((2, 3), (2, 2), (3, 2))\n",
      "((2, 3), (2, 2))\n",
      "((2, 4), (2, 3))\n",
      "((1, 4), (2, 4))\n",
      "((0, 4), (1, 4))\n",
      "((0, 4),)\n"
     ]
    }
   ],
   "source": [
    "print(different)\n",
    "different =0 \n",
    "print(num_node)\n",
    "num_node =0\n",
    "while best[PARENT]!=None:\n",
    "    state =best[POS]\n",
    "    print(state[0])\n",
    "    best = best[PARENT]"
   ]
  },
  {
   "cell_type": "code",
   "execution_count": 405,
   "metadata": {},
   "outputs": [
    {
     "data": {
      "text/plain": [
       "0.0009963512420654297"
      ]
     },
     "execution_count": 405,
     "metadata": {},
     "output_type": "execute_result"
    }
   ],
   "source": [
    "apples =apples_2\n",
    "width , height = width_2,height_2\n",
    "start_pos = (((snake_loc_x_2,snake_loc_y_2),),apples)\n",
    "node_start = [ start_pos,  None]\n",
    "tic =time.time()\n",
    "best =astar(start_pos, neighbors, goal,0, heuristic_eu,2)\n",
    "toc = time.time()\n",
    "toc-tic"
   ]
  },
  {
   "cell_type": "code",
   "execution_count": 406,
   "metadata": {},
   "outputs": [
    {
     "name": "stdout",
     "output_type": "stream",
     "text": [
      "40\n",
      "118\n",
      "((6, 6), (5, 6), (5, 7), (5, 8), (5, 9), (5, 10), (6, 10))\n",
      "((6, 6), (5, 6), (5, 7), (5, 8), (5, 9), (5, 10))\n",
      "((7, 6), (6, 6), (5, 6), (5, 7), (5, 8), (5, 9))\n",
      "((7, 5), (7, 6), (6, 6), (5, 6), (5, 7), (5, 8))\n",
      "((8, 5), (7, 5), (7, 6), (6, 6), (5, 6), (5, 7))\n",
      "((8, 4), (8, 5), (7, 5), (7, 6), (6, 6), (5, 6))\n",
      "((8, 4), (8, 5), (7, 5), (7, 6), (6, 6))\n",
      "((9, 4), (8, 4), (8, 5), (7, 5), (7, 6))\n",
      "((9, 3), (9, 4), (8, 4), (8, 5), (7, 5))\n",
      "((9, 2), (9, 3), (9, 4), (8, 4), (8, 5))\n",
      "((0, 2), (9, 2), (9, 3), (9, 4), (8, 4))\n",
      "((0, 1), (0, 2), (9, 2), (9, 3), (9, 4))\n",
      "((9, 1), (0, 1), (0, 2), (9, 2), (9, 3))\n",
      "((9, 0), (9, 1), (0, 1), (0, 2), (9, 2))\n",
      "((9, 11), (9, 0), (9, 1), (0, 1), (0, 2))\n",
      "((0, 11), (9, 11), (9, 0), (9, 1), (0, 1))\n",
      "((0, 11), (9, 11), (9, 0), (9, 1))\n",
      "((0, 0), (0, 11), (9, 11), (9, 0))\n",
      "((0, 0), (0, 11), (9, 11))\n",
      "((0, 0), (0, 11))\n"
     ]
    }
   ],
   "source": [
    "print(different)\n",
    "different =0 \n",
    "print(num_node)\n",
    "num_node =0\n",
    "while best[PARENT]!=None:\n",
    "    state =best[POS]\n",
    "    print(state[0])\n",
    "    best = best[PARENT]"
   ]
  },
  {
   "cell_type": "code",
   "execution_count": 411,
   "metadata": {},
   "outputs": [
    {
     "data": {
      "text/plain": [
       "0.0009975433349609375"
      ]
     },
     "execution_count": 411,
     "metadata": {},
     "output_type": "execute_result"
    }
   ],
   "source": [
    "apples =apples_2\n",
    "width , height = width_2,height_2\n",
    "start_pos = (((snake_loc_x_2,snake_loc_y_2),),apples)\n",
    "node_start = [ start_pos,  None]\n",
    "tic =time.time()\n",
    "best =astar(start_pos, neighbors, goal,0, heuristic_eu,4)\n",
    "toc = time.time()\n",
    "toc-tic"
   ]
  },
  {
   "cell_type": "code",
   "execution_count": 412,
   "metadata": {},
   "outputs": [
    {
     "name": "stdout",
     "output_type": "stream",
     "text": [
      "20\n",
      "59\n",
      "((6, 6), (5, 6), (5, 7), (5, 8), (5, 9), (5, 10), (6, 10))\n",
      "((6, 6), (5, 6), (5, 7), (5, 8), (5, 9), (5, 10))\n",
      "((7, 6), (6, 6), (5, 6), (5, 7), (5, 8), (5, 9))\n",
      "((7, 5), (7, 6), (6, 6), (5, 6), (5, 7), (5, 8))\n",
      "((8, 5), (7, 5), (7, 6), (6, 6), (5, 6), (5, 7))\n",
      "((8, 4), (8, 5), (7, 5), (7, 6), (6, 6), (5, 6))\n",
      "((8, 4), (8, 5), (7, 5), (7, 6), (6, 6))\n",
      "((9, 4), (8, 4), (8, 5), (7, 5), (7, 6))\n",
      "((9, 3), (9, 4), (8, 4), (8, 5), (7, 5))\n",
      "((9, 2), (9, 3), (9, 4), (8, 4), (8, 5))\n",
      "((0, 2), (9, 2), (9, 3), (9, 4), (8, 4))\n",
      "((0, 1), (0, 2), (9, 2), (9, 3), (9, 4))\n",
      "((9, 1), (0, 1), (0, 2), (9, 2), (9, 3))\n",
      "((9, 0), (9, 1), (0, 1), (0, 2), (9, 2))\n",
      "((9, 11), (9, 0), (9, 1), (0, 1), (0, 2))\n",
      "((0, 11), (9, 11), (9, 0), (9, 1), (0, 1))\n",
      "((0, 11), (9, 11), (9, 0), (9, 1))\n",
      "((0, 0), (0, 11), (9, 11), (9, 0))\n",
      "((0, 0), (0, 11), (9, 11))\n",
      "((0, 0), (0, 11))\n"
     ]
    }
   ],
   "source": [
    "print(different)\n",
    "different =0 \n",
    "print(num_node)\n",
    "num_node =0\n",
    "while best[PARENT]!=None:\n",
    "    state =best[POS]\n",
    "    print(state[0])\n",
    "    best = best[PARENT]"
   ]
  },
  {
   "cell_type": "code",
   "execution_count": 413,
   "metadata": {},
   "outputs": [
    {
     "data": {
      "text/plain": [
       "0.018947362899780273"
      ]
     },
     "execution_count": 413,
     "metadata": {},
     "output_type": "execute_result"
    }
   ],
   "source": [
    "apples =apples_3\n",
    "width , height = width_3,height_3\n",
    "start_pos = (((snake_loc_x_3,snake_loc_y_3),),apples)\n",
    "node_start = [ start_pos,  None]\n",
    "tic =time.time()\n",
    "best =astar(start_pos, neighbors, goal,0, heuristic_eu,2)\n",
    "toc = time.time()\n",
    "toc-tic"
   ]
  },
  {
   "cell_type": "code",
   "execution_count": 414,
   "metadata": {},
   "outputs": [
    {
     "name": "stdout",
     "output_type": "stream",
     "text": [
      "579\n",
      "1626\n",
      "((4, 9), (4, 0), (5, 0), (6, 0), (7, 0), (8, 0), (8, 1), (9, 1))\n",
      "((4, 9), (4, 0), (5, 0), (6, 0), (7, 0), (8, 0), (8, 1))\n",
      "((4, 8), (4, 9), (4, 0), (5, 0), (6, 0), (7, 0), (8, 0))\n",
      "((5, 8), (4, 8), (4, 9), (4, 0), (5, 0), (6, 0), (7, 0))\n",
      "((5, 7), (5, 8), (4, 8), (4, 9), (4, 0), (5, 0), (6, 0))\n",
      "((4, 7), (5, 7), (5, 8), (4, 8), (4, 9), (4, 0), (5, 0))\n",
      "((4, 6), (4, 7), (5, 7), (5, 8), (4, 8), (4, 9), (4, 0))\n",
      "((4, 5), (4, 6), (4, 7), (5, 7), (5, 8), (4, 8), (4, 9))\n",
      "((4, 5), (4, 6), (4, 7), (5, 7), (5, 8), (4, 8))\n",
      "((4, 4), (4, 5), (4, 6), (4, 7), (5, 7), (5, 8))\n",
      "((3, 4), (4, 4), (4, 5), (4, 6), (4, 7), (5, 7))\n",
      "((3, 4), (4, 4), (4, 5), (4, 6), (4, 7))\n",
      "((3, 5), (3, 4), (4, 4), (4, 5), (4, 6))\n",
      "((3, 6), (3, 5), (3, 4), (4, 4), (4, 5))\n",
      "((3, 7), (3, 6), (3, 5), (3, 4), (4, 4))\n",
      "((4, 7), (3, 7), (3, 6), (3, 5), (3, 4))\n",
      "((4, 7), (3, 7), (3, 6), (3, 5))\n",
      "((5, 7), (4, 7), (3, 7), (3, 6))\n",
      "((5, 6), (5, 7), (4, 7), (3, 7))\n",
      "((4, 6), (5, 6), (5, 7), (4, 7))\n",
      "((4, 5), (4, 6), (5, 6), (5, 7))\n",
      "((4, 5), (4, 6), (5, 6))\n",
      "((3, 5), (4, 5), (4, 6))\n",
      "((3, 4), (3, 5), (4, 5))\n",
      "((3, 3), (3, 4), (3, 5))\n",
      "((2, 3), (3, 3), (3, 4))\n",
      "((2, 3), (3, 3))\n",
      "((2, 2), (2, 3))\n",
      "((1, 2), (2, 2))\n",
      "((1, 2),)\n",
      "((1, 1),)\n",
      "((0, 1),)\n"
     ]
    }
   ],
   "source": [
    "print(different)\n",
    "different =0 \n",
    "print(num_node)\n",
    "num_node =0\n",
    "while best[PARENT]!=None:\n",
    "    state =best[POS]\n",
    "    print(state[0])\n",
    "    best = best[PARENT]"
   ]
  },
  {
   "cell_type": "code",
   "execution_count": 416,
   "metadata": {},
   "outputs": [
    {
     "data": {
      "text/plain": [
       "0.0019948482513427734"
      ]
     },
     "execution_count": 416,
     "metadata": {},
     "output_type": "execute_result"
    }
   ],
   "source": [
    "apples =apples_3\n",
    "width , height = width_3,height_3\n",
    "start_pos = (((snake_loc_x_3,snake_loc_y_3),),apples)\n",
    "node_start = [ start_pos,  None]\n",
    "tic =time.time()\n",
    "best =astar(start_pos, neighbors, goal,0, heuristic_eu,4)\n",
    "toc = time.time()\n",
    "toc-tic"
   ]
  },
  {
   "cell_type": "code",
   "execution_count": 417,
   "metadata": {},
   "outputs": [
    {
     "name": "stdout",
     "output_type": "stream",
     "text": [
      "110\n",
      "322\n",
      "((4, 9), (4, 0), (5, 0), (6, 0), (7, 0), (8, 0), (8, 1), (9, 1))\n",
      "((4, 9), (4, 0), (5, 0), (6, 0), (7, 0), (8, 0), (8, 1))\n",
      "((4, 8), (4, 9), (4, 0), (5, 0), (6, 0), (7, 0), (8, 0))\n",
      "((4, 7), (4, 8), (4, 9), (4, 0), (5, 0), (6, 0), (7, 0))\n",
      "((4, 6), (4, 7), (4, 8), (4, 9), (4, 0), (5, 0), (6, 0))\n",
      "((3, 6), (4, 6), (4, 7), (4, 8), (4, 9), (4, 0), (5, 0))\n",
      "((3, 5), (3, 6), (4, 6), (4, 7), (4, 8), (4, 9), (4, 0))\n",
      "((3, 4), (3, 5), (3, 6), (4, 6), (4, 7), (4, 8), (4, 9))\n",
      "((3, 4), (3, 5), (3, 6), (4, 6), (4, 7), (4, 8))\n",
      "((4, 4), (3, 4), (3, 5), (3, 6), (4, 6), (4, 7))\n",
      "((4, 5), (4, 4), (3, 4), (3, 5), (3, 6), (4, 6))\n",
      "((5, 5), (4, 5), (4, 4), (3, 4), (3, 5), (3, 6))\n",
      "((5, 6), (5, 5), (4, 5), (4, 4), (3, 4), (3, 5))\n",
      "((5, 7), (5, 6), (5, 5), (4, 5), (4, 4), (3, 4))\n",
      "((5, 7), (5, 6), (5, 5), (4, 5), (4, 4))\n",
      "((4, 7), (5, 7), (5, 6), (5, 5), (4, 5))\n",
      "((4, 6), (4, 7), (5, 7), (5, 6), (5, 5))\n",
      "((4, 5), (4, 6), (4, 7), (5, 7), (5, 6))\n",
      "((5, 5), (4, 5), (4, 6), (4, 7), (5, 7))\n",
      "((5, 5), (4, 5), (4, 6), (4, 7))\n",
      "((5, 6), (5, 5), (4, 5), (4, 6))\n",
      "((5, 7), (5, 6), (5, 5), (4, 5))\n",
      "((4, 7), (5, 7), (5, 6), (5, 5))\n",
      "((4, 6), (4, 7), (5, 7), (5, 6))\n",
      "((4, 5), (4, 6), (4, 7), (5, 7))\n",
      "((4, 5), (4, 6), (4, 7))\n",
      "((3, 5), (4, 5), (4, 6))\n",
      "((3, 4), (3, 5), (4, 5))\n",
      "((3, 3), (3, 4), (3, 5))\n",
      "((2, 3), (3, 3), (3, 4))\n",
      "((2, 3), (3, 3))\n",
      "((2, 2), (2, 3))\n",
      "((1, 2), (2, 2))\n",
      "((1, 2),)\n",
      "((1, 1),)\n",
      "((0, 1),)\n"
     ]
    }
   ],
   "source": [
    "print(different)\n",
    "different =0 \n",
    "print(num_node)\n",
    "num_node =0\n",
    "while best[PARENT]!=None:\n",
    "    state =best[POS]\n",
    "    print(state[0])\n",
    "    best = best[PARENT]"
   ]
  },
  {
   "cell_type": "markdown",
   "metadata": {},
   "source": [
    "### Conclusion"
   ]
  },
  {
   "cell_type": "markdown",
   "metadata": {},
   "source": [
    "###### Test1"
   ]
  },
  {
   "cell_type": "markdown",
   "metadata": {},
   "source": [
    "| Algorithm | Distance | Path| Visited States| Different Visited States| Time\n",
    "| --- | --- | --- | --- | --- | --- \n",
    "| BFS | 12 | DRDRULDLLLDD |74785|18697|0.21\n",
    "| DLS | 19 | DDDDRDDDDDDDDLDLL |7329|12917|0.03\n",
    "| A* | 14 | DRRDRRDLDLUULU |146|50|0.001\n",
    "| Weighted A*  alpha=2| 15 | DRRDDRURRRUURUR |182|59|0.0009\n",
    "| Weighted A*  alpha=4| 15 | DRRDRDRURRUURUR |58|19|0.0009"
   ]
  },
  {
   "cell_type": "markdown",
   "metadata": {},
   "source": [
    "###### Test2"
   ]
  },
  {
   "cell_type": "markdown",
   "metadata": {},
   "source": [
    "| Algorithm | Distance | Path| Visited States| Different Visited States| Time\n",
    "| --- | --- | --- | --- | --- | --- \n",
    "| BFS | 15 | ULDDRDLLLLDDDDL |1232348|308087|0.5\n",
    "| DLS | 25 | DDDDDDDDDDDLDDDLLLDDDDL |207912|101798|0.6\n",
    "| A* | 20 | DLUURULUULULULLUUUUR |218|73|0.0019\n",
    "| Weighted A*  alpha=2| 20 | DLUURULUULULULLUUUUR |118|40|0.0009\n",
    "| Weighted A*  alpha=4| 20 | DLUURULUULULULLUUUUR |59|20|0.0009"
   ]
  },
  {
   "cell_type": "markdown",
   "metadata": {},
   "source": [
    "###### Test3"
   ]
  },
  {
   "cell_type": "markdown",
   "metadata": {},
   "source": [
    "| Algorithm | Distance | Path| Visited States| Different Visited States| Time\n",
    "| --- | --- | --- | --- | --- | --- \n",
    "| BFS | - | - |-|-|-\n",
    "| DLS | 68 | DDDDDDDDDDLLDDDDDDDDDLDDDDDDDDDDLDDLDDDDDLLDDLDDDRRULUUUUUUUURDR |1116054|532685|10\n",
    "| A* | 32 | URURURUUUURRUULDDRDLLDDDDRRRRRDR |4039|1441|0.07\n",
    "| Weighted A*  alpha=2| 32 | URURURUURURULLDDDRUUURULUURRRRUR |1626|549|0.016\n",
    "| Weighted A*  alpha=4| 36 | URURURUURUURDDLUURDDLDLUURUUUURRRRUR |322|110|0.002"
   ]
  },
  {
   "cell_type": "markdown",
   "metadata": {},
   "source": [
    "In all  tests higher alpha results into less visited states and time.It's impact ,however, is more evident in more complicated test cases(test3 for instance).Overall A*'s visited states and time is better than the other two algorithms.among them DLS seems to be better in time since its using both BFS and DFS 's benefits."
   ]
  },
  {
   "cell_type": "code",
   "execution_count": null,
   "metadata": {},
   "outputs": [],
   "source": []
  }
 ],
 "metadata": {
  "kernelspec": {
   "display_name": "Python 3",
   "language": "python",
   "name": "python3"
  },
  "language_info": {
   "codemirror_mode": {
    "name": "ipython",
    "version": 3
   },
   "file_extension": ".py",
   "mimetype": "text/x-python",
   "name": "python",
   "nbconvert_exporter": "python",
   "pygments_lexer": "ipython3",
   "version": "3.7.7"
  }
 },
 "nbformat": 4,
 "nbformat_minor": 4
}
