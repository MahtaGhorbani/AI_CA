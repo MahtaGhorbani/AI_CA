{
 "cells": [
  {
   "cell_type": "markdown",
   "metadata": {},
   "source": [
    "# پروژه صفر"
   ]
  },
  {
   "cell_type": "markdown",
   "metadata": {},
   "source": [
    "##### vectorization پروژه صفر آشنایی با  \n",
    "هدف پروژه: پرکردن نواقص یک دیتاست با پیش بینی آنها با تحلیل آماری\n"
   ]
  },
  {
   "cell_type": "markdown",
   "metadata": {},
   "source": [
    ".فایل اطلاعاتی موجود که حاوی اطلاعات مربوط به ۱۰۰۰ کاربر یک سایت است که با یک آگهی اینترنتی برخورد کرده اند. در هر سطر فایل یک رکورد با اطلاعات زیر آمده است<br>\n",
    "زمان سپری شده در سایت\n",
    "<br>\n",
    "سن<br>\n",
    "میانگین درآمد منطقه کاربر<br>\n",
    "میزان استفاده روزانه از اینترنت<br>\n",
    "موضوع آگهی<br>\n",
    "شهر<br> \n",
    "جنسیت<br>\n",
    "کشور<br>\n",
    "زمانی که رکورد ثبت شده<br>\n",
    "آیا روی آگهی کلیلک کرده یا خیر<br>\n",
    ".برای تعدادی از نمونه ها مقدار ستون هدف (آیا روی آگهی کلیلک کرده یا خیر) مشخص نیست و هدف پروژه پیش بینی این مقدار با استفاده از سایر ویژگی هاست"
   ]
  },
  {
   "cell_type": "markdown",
   "metadata": {},
   "source": []
  },
  {
   "cell_type": "code",
   "execution_count": 2,
   "metadata": {},
   "outputs": [],
   "source": [
    "import numpy as np\n",
    "import pandas as pd\n",
    "import matplotlib.pyplot as plt\n",
    "import time\n",
    "from scipy.stats import norm"
   ]
  },
  {
   "cell_type": "markdown",
   "metadata": {},
   "source": [
    "گام اول پروژه خواندن داده های موجود در فایل و نشان داده ۵ داده اول و آخر و همچنین توضیحات مربوط به هر ویژگی است"
   ]
  },
  {
   "cell_type": "code",
   "execution_count": 3,
   "metadata": {},
   "outputs": [
    {
     "data": {
      "text/html": [
       "<div>\n",
       "<style scoped>\n",
       "    .dataframe tbody tr th:only-of-type {\n",
       "        vertical-align: middle;\n",
       "    }\n",
       "\n",
       "    .dataframe tbody tr th {\n",
       "        vertical-align: top;\n",
       "    }\n",
       "\n",
       "    .dataframe thead th {\n",
       "        text-align: right;\n",
       "    }\n",
       "</style>\n",
       "<table border=\"1\" class=\"dataframe\">\n",
       "  <thead>\n",
       "    <tr style=\"text-align: right;\">\n",
       "      <th></th>\n",
       "      <th>Unnamed: 0</th>\n",
       "      <th>Daily Time Spent on Site</th>\n",
       "      <th>Age</th>\n",
       "      <th>Area Income</th>\n",
       "      <th>Daily Internet Usage</th>\n",
       "      <th>Ad Topic Line</th>\n",
       "      <th>City</th>\n",
       "      <th>Gender</th>\n",
       "      <th>Country</th>\n",
       "      <th>Timestamp</th>\n",
       "      <th>Clicked on Ad</th>\n",
       "    </tr>\n",
       "  </thead>\n",
       "  <tbody>\n",
       "    <tr>\n",
       "      <th>0</th>\n",
       "      <td>0</td>\n",
       "      <td>68.95</td>\n",
       "      <td>35.0</td>\n",
       "      <td>61833.90</td>\n",
       "      <td>256.09</td>\n",
       "      <td>Cloned 5thgeneration orchestration</td>\n",
       "      <td>Wrightburgh</td>\n",
       "      <td>Female</td>\n",
       "      <td>Tunisia</td>\n",
       "      <td>2016-03-27 00:53:11</td>\n",
       "      <td>0.0</td>\n",
       "    </tr>\n",
       "    <tr>\n",
       "      <th>1</th>\n",
       "      <td>1</td>\n",
       "      <td>80.23</td>\n",
       "      <td>31.0</td>\n",
       "      <td>68441.85</td>\n",
       "      <td>NaN</td>\n",
       "      <td>Monitored national standardization</td>\n",
       "      <td>West Jodi</td>\n",
       "      <td>Male</td>\n",
       "      <td>Nauru</td>\n",
       "      <td>2016-04-04 01:39:02</td>\n",
       "      <td>0.0</td>\n",
       "    </tr>\n",
       "    <tr>\n",
       "      <th>2</th>\n",
       "      <td>2</td>\n",
       "      <td>69.47</td>\n",
       "      <td>26.0</td>\n",
       "      <td>59785.94</td>\n",
       "      <td>236.50</td>\n",
       "      <td>Organic bottom-line service-desk</td>\n",
       "      <td>Davidton</td>\n",
       "      <td>Female</td>\n",
       "      <td>San Marino</td>\n",
       "      <td>2016-03-13 20:35:42</td>\n",
       "      <td>0.0</td>\n",
       "    </tr>\n",
       "    <tr>\n",
       "      <th>3</th>\n",
       "      <td>3</td>\n",
       "      <td>74.15</td>\n",
       "      <td>29.0</td>\n",
       "      <td>54806.18</td>\n",
       "      <td>245.89</td>\n",
       "      <td>Triple-buffered reciprocal time-frame</td>\n",
       "      <td>West Terrifurt</td>\n",
       "      <td>Male</td>\n",
       "      <td>Italy</td>\n",
       "      <td>2016-01-10 02:31:19</td>\n",
       "      <td>0.0</td>\n",
       "    </tr>\n",
       "    <tr>\n",
       "      <th>4</th>\n",
       "      <td>4</td>\n",
       "      <td>68.37</td>\n",
       "      <td>35.0</td>\n",
       "      <td>73889.99</td>\n",
       "      <td>225.58</td>\n",
       "      <td>Robust logistical utilization</td>\n",
       "      <td>South Manuel</td>\n",
       "      <td>Female</td>\n",
       "      <td>Iceland</td>\n",
       "      <td>2016-06-03 03:36:18</td>\n",
       "      <td>0.0</td>\n",
       "    </tr>\n",
       "  </tbody>\n",
       "</table>\n",
       "</div>"
      ],
      "text/plain": [
       "   Unnamed: 0  Daily Time Spent on Site   Age  Area Income  \\\n",
       "0           0                     68.95  35.0     61833.90   \n",
       "1           1                     80.23  31.0     68441.85   \n",
       "2           2                     69.47  26.0     59785.94   \n",
       "3           3                     74.15  29.0     54806.18   \n",
       "4           4                     68.37  35.0     73889.99   \n",
       "\n",
       "   Daily Internet Usage                          Ad Topic Line  \\\n",
       "0                256.09     Cloned 5thgeneration orchestration   \n",
       "1                   NaN     Monitored national standardization   \n",
       "2                236.50       Organic bottom-line service-desk   \n",
       "3                245.89  Triple-buffered reciprocal time-frame   \n",
       "4                225.58          Robust logistical utilization   \n",
       "\n",
       "             City  Gender     Country            Timestamp  Clicked on Ad  \n",
       "0     Wrightburgh  Female     Tunisia  2016-03-27 00:53:11            0.0  \n",
       "1       West Jodi    Male       Nauru  2016-04-04 01:39:02            0.0  \n",
       "2        Davidton  Female  San Marino  2016-03-13 20:35:42            0.0  \n",
       "3  West Terrifurt    Male       Italy  2016-01-10 02:31:19            0.0  \n",
       "4    South Manuel  Female     Iceland  2016-06-03 03:36:18            0.0  "
      ]
     },
     "execution_count": 3,
     "metadata": {},
     "output_type": "execute_result"
    }
   ],
   "source": [
    "data = pd.read_csv(\"advertising_dataset.csv\")\n",
    "data.head()"
   ]
  },
  {
   "cell_type": "code",
   "execution_count": 4,
   "metadata": {
    "scrolled": true
   },
   "outputs": [
    {
     "data": {
      "text/html": [
       "<div>\n",
       "<style scoped>\n",
       "    .dataframe tbody tr th:only-of-type {\n",
       "        vertical-align: middle;\n",
       "    }\n",
       "\n",
       "    .dataframe tbody tr th {\n",
       "        vertical-align: top;\n",
       "    }\n",
       "\n",
       "    .dataframe thead th {\n",
       "        text-align: right;\n",
       "    }\n",
       "</style>\n",
       "<table border=\"1\" class=\"dataframe\">\n",
       "  <thead>\n",
       "    <tr style=\"text-align: right;\">\n",
       "      <th></th>\n",
       "      <th>Unnamed: 0</th>\n",
       "      <th>Daily Time Spent on Site</th>\n",
       "      <th>Age</th>\n",
       "      <th>Area Income</th>\n",
       "      <th>Daily Internet Usage</th>\n",
       "      <th>Ad Topic Line</th>\n",
       "      <th>City</th>\n",
       "      <th>Gender</th>\n",
       "      <th>Country</th>\n",
       "      <th>Timestamp</th>\n",
       "      <th>Clicked on Ad</th>\n",
       "    </tr>\n",
       "  </thead>\n",
       "  <tbody>\n",
       "    <tr>\n",
       "      <th>995</th>\n",
       "      <td>995</td>\n",
       "      <td>72.97</td>\n",
       "      <td>30.0</td>\n",
       "      <td>71384.57</td>\n",
       "      <td>208.58</td>\n",
       "      <td>Fundamental modular algorithm</td>\n",
       "      <td>Duffystad</td>\n",
       "      <td>Male</td>\n",
       "      <td>Lebanon</td>\n",
       "      <td>2016-02-11 21:49:00</td>\n",
       "      <td>1.0</td>\n",
       "    </tr>\n",
       "    <tr>\n",
       "      <th>996</th>\n",
       "      <td>996</td>\n",
       "      <td>51.30</td>\n",
       "      <td>45.0</td>\n",
       "      <td>67782.17</td>\n",
       "      <td>134.42</td>\n",
       "      <td>Grass-roots cohesive monitoring</td>\n",
       "      <td>New Darlene</td>\n",
       "      <td>Male</td>\n",
       "      <td>Bosnia and Herzegovina</td>\n",
       "      <td>2016-04-22 02:07:01</td>\n",
       "      <td>1.0</td>\n",
       "    </tr>\n",
       "    <tr>\n",
       "      <th>997</th>\n",
       "      <td>997</td>\n",
       "      <td>51.63</td>\n",
       "      <td>51.0</td>\n",
       "      <td>42415.72</td>\n",
       "      <td>120.37</td>\n",
       "      <td>Expanded intangible solution</td>\n",
       "      <td>South Jessica</td>\n",
       "      <td>Male</td>\n",
       "      <td>Mongolia</td>\n",
       "      <td>2016-02-01 17:24:57</td>\n",
       "      <td>1.0</td>\n",
       "    </tr>\n",
       "    <tr>\n",
       "      <th>998</th>\n",
       "      <td>998</td>\n",
       "      <td>55.55</td>\n",
       "      <td>19.0</td>\n",
       "      <td>41920.79</td>\n",
       "      <td>187.95</td>\n",
       "      <td>Proactive bandwidth-monitored policy</td>\n",
       "      <td>West Steven</td>\n",
       "      <td>Female</td>\n",
       "      <td>Guatemala</td>\n",
       "      <td>2016-03-24 02:35:54</td>\n",
       "      <td>0.0</td>\n",
       "    </tr>\n",
       "    <tr>\n",
       "      <th>999</th>\n",
       "      <td>999</td>\n",
       "      <td>NaN</td>\n",
       "      <td>26.0</td>\n",
       "      <td>29875.80</td>\n",
       "      <td>178.35</td>\n",
       "      <td>Virtual 5thgeneration emulation</td>\n",
       "      <td>Ronniemouth</td>\n",
       "      <td>Female</td>\n",
       "      <td>Brazil</td>\n",
       "      <td>2016-06-03 21:43:21</td>\n",
       "      <td>1.0</td>\n",
       "    </tr>\n",
       "  </tbody>\n",
       "</table>\n",
       "</div>"
      ],
      "text/plain": [
       "     Unnamed: 0  Daily Time Spent on Site   Age  Area Income  \\\n",
       "995         995                     72.97  30.0     71384.57   \n",
       "996         996                     51.30  45.0     67782.17   \n",
       "997         997                     51.63  51.0     42415.72   \n",
       "998         998                     55.55  19.0     41920.79   \n",
       "999         999                       NaN  26.0     29875.80   \n",
       "\n",
       "     Daily Internet Usage                         Ad Topic Line  \\\n",
       "995                208.58         Fundamental modular algorithm   \n",
       "996                134.42       Grass-roots cohesive monitoring   \n",
       "997                120.37          Expanded intangible solution   \n",
       "998                187.95  Proactive bandwidth-monitored policy   \n",
       "999                178.35       Virtual 5thgeneration emulation   \n",
       "\n",
       "              City  Gender                 Country            Timestamp  \\\n",
       "995      Duffystad    Male                 Lebanon  2016-02-11 21:49:00   \n",
       "996    New Darlene    Male  Bosnia and Herzegovina  2016-04-22 02:07:01   \n",
       "997  South Jessica    Male                Mongolia  2016-02-01 17:24:57   \n",
       "998    West Steven  Female               Guatemala  2016-03-24 02:35:54   \n",
       "999    Ronniemouth  Female                  Brazil  2016-06-03 21:43:21   \n",
       "\n",
       "     Clicked on Ad  \n",
       "995            1.0  \n",
       "996            1.0  \n",
       "997            1.0  \n",
       "998            0.0  \n",
       "999            1.0  "
      ]
     },
     "execution_count": 4,
     "metadata": {},
     "output_type": "execute_result"
    }
   ],
   "source": [
    "data.tail()"
   ]
  },
  {
   "cell_type": "markdown",
   "metadata": {},
   "source": [
    "است که در واقع همان شناسه هر رکورد میباشد unnamed با مشاهده داده ها اولین نکته ویژگی "
   ]
  },
  {
   "cell_type": "code",
   "execution_count": 5,
   "metadata": {},
   "outputs": [
    {
     "data": {
      "text/html": [
       "<div>\n",
       "<style scoped>\n",
       "    .dataframe tbody tr th:only-of-type {\n",
       "        vertical-align: middle;\n",
       "    }\n",
       "\n",
       "    .dataframe tbody tr th {\n",
       "        vertical-align: top;\n",
       "    }\n",
       "\n",
       "    .dataframe thead th {\n",
       "        text-align: right;\n",
       "    }\n",
       "</style>\n",
       "<table border=\"1\" class=\"dataframe\">\n",
       "  <thead>\n",
       "    <tr style=\"text-align: right;\">\n",
       "      <th></th>\n",
       "      <th>Unnamed: 0</th>\n",
       "      <th>Daily Time Spent on Site</th>\n",
       "      <th>Age</th>\n",
       "      <th>Area Income</th>\n",
       "      <th>Daily Internet Usage</th>\n",
       "      <th>Clicked on Ad</th>\n",
       "    </tr>\n",
       "  </thead>\n",
       "  <tbody>\n",
       "    <tr>\n",
       "      <th>count</th>\n",
       "      <td>1000.000000</td>\n",
       "      <td>907.000000</td>\n",
       "      <td>979.000000</td>\n",
       "      <td>1000.000000</td>\n",
       "      <td>913.000000</td>\n",
       "      <td>832.000000</td>\n",
       "    </tr>\n",
       "    <tr>\n",
       "      <th>mean</th>\n",
       "      <td>499.500000</td>\n",
       "      <td>64.794818</td>\n",
       "      <td>36.009193</td>\n",
       "      <td>55000.000080</td>\n",
       "      <td>179.751271</td>\n",
       "      <td>0.496394</td>\n",
       "    </tr>\n",
       "    <tr>\n",
       "      <th>std</th>\n",
       "      <td>288.819436</td>\n",
       "      <td>15.954841</td>\n",
       "      <td>8.783636</td>\n",
       "      <td>13414.634022</td>\n",
       "      <td>43.957934</td>\n",
       "      <td>0.500288</td>\n",
       "    </tr>\n",
       "    <tr>\n",
       "      <th>min</th>\n",
       "      <td>0.000000</td>\n",
       "      <td>32.600000</td>\n",
       "      <td>19.000000</td>\n",
       "      <td>13996.500000</td>\n",
       "      <td>104.780000</td>\n",
       "      <td>0.000000</td>\n",
       "    </tr>\n",
       "    <tr>\n",
       "      <th>25%</th>\n",
       "      <td>249.750000</td>\n",
       "      <td>50.615000</td>\n",
       "      <td>29.000000</td>\n",
       "      <td>47031.802500</td>\n",
       "      <td>138.550000</td>\n",
       "      <td>0.000000</td>\n",
       "    </tr>\n",
       "    <tr>\n",
       "      <th>50%</th>\n",
       "      <td>499.500000</td>\n",
       "      <td>67.940000</td>\n",
       "      <td>35.000000</td>\n",
       "      <td>57012.300000</td>\n",
       "      <td>183.480000</td>\n",
       "      <td>0.000000</td>\n",
       "    </tr>\n",
       "    <tr>\n",
       "      <th>75%</th>\n",
       "      <td>749.250000</td>\n",
       "      <td>78.555000</td>\n",
       "      <td>42.000000</td>\n",
       "      <td>65470.635000</td>\n",
       "      <td>217.850000</td>\n",
       "      <td>1.000000</td>\n",
       "    </tr>\n",
       "    <tr>\n",
       "      <th>max</th>\n",
       "      <td>999.000000</td>\n",
       "      <td>91.430000</td>\n",
       "      <td>61.000000</td>\n",
       "      <td>79484.800000</td>\n",
       "      <td>269.960000</td>\n",
       "      <td>1.000000</td>\n",
       "    </tr>\n",
       "  </tbody>\n",
       "</table>\n",
       "</div>"
      ],
      "text/plain": [
       "        Unnamed: 0  Daily Time Spent on Site         Age   Area Income  \\\n",
       "count  1000.000000                907.000000  979.000000   1000.000000   \n",
       "mean    499.500000                 64.794818   36.009193  55000.000080   \n",
       "std     288.819436                 15.954841    8.783636  13414.634022   \n",
       "min       0.000000                 32.600000   19.000000  13996.500000   \n",
       "25%     249.750000                 50.615000   29.000000  47031.802500   \n",
       "50%     499.500000                 67.940000   35.000000  57012.300000   \n",
       "75%     749.250000                 78.555000   42.000000  65470.635000   \n",
       "max     999.000000                 91.430000   61.000000  79484.800000   \n",
       "\n",
       "       Daily Internet Usage  Clicked on Ad  \n",
       "count            913.000000     832.000000  \n",
       "mean             179.751271       0.496394  \n",
       "std               43.957934       0.500288  \n",
       "min              104.780000       0.000000  \n",
       "25%              138.550000       0.000000  \n",
       "50%              183.480000       0.000000  \n",
       "75%              217.850000       1.000000  \n",
       "max              269.960000       1.000000  "
      ]
     },
     "execution_count": 5,
     "metadata": {},
     "output_type": "execute_result"
    }
   ],
   "source": [
    "data.describe()"
   ]
  },
  {
   "cell_type": "markdown",
   "metadata": {},
   "source": [
    "جدول بالا اطلاعات آماری مربوط به هر ویژگی را نشان میدهد با مشاهده اعداد سطر اول که تعداد عناصر پرشده در جدول را نشان میدهد متوجه میشویم که برای بیشتر ویژگی ها تعدادی از رکورد ها خالی هستند و در کلاس هدف تقربا ۲۰۰ عنصر مقدار ندارند.<br>\n",
    "کاربران این وبسایت به طور میانگین ۳۶ سال سن دارند که کوچکترین آنها ۱۹ سال و بزرگترین ۶۱ سال سن دارد.<br>\n",
    "ویژگی بعدی میزان زمانی است که هر کاربر در این وبسایت وقت میگذارد(احتمالا این ویژگی به دقیقه نشان داده شده چون ثانیه و ساعت با توجه به مقادیر کمترین و بیشترین منطقی نیستند) کاربران به طور میانگین بیش از یک ساعت در این سایت وقت میگذرانند که نصف این داده ها کمتر از یک ساعت با مینیمم ۳۰ دقیقه وقت صرف میکنند در حالی که مابقی بیش از این مقدار در این سایت هستند.<br>"
   ]
  },
  {
   "cell_type": "code",
   "execution_count": 6,
   "metadata": {},
   "outputs": [
    {
     "name": "stdout",
     "output_type": "stream",
     "text": [
      "<class 'pandas.core.frame.DataFrame'>\n",
      "RangeIndex: 1000 entries, 0 to 999\n",
      "Data columns (total 11 columns):\n",
      " #   Column                    Non-Null Count  Dtype  \n",
      "---  ------                    --------------  -----  \n",
      " 0   Unnamed: 0                1000 non-null   int64  \n",
      " 1   Daily Time Spent on Site  907 non-null    float64\n",
      " 2   Age                       979 non-null    float64\n",
      " 3   Area Income               1000 non-null   float64\n",
      " 4   Daily Internet Usage      913 non-null    float64\n",
      " 5   Ad Topic Line             1000 non-null   object \n",
      " 6   City                      1000 non-null   object \n",
      " 7   Gender                    1000 non-null   object \n",
      " 8   Country                   1000 non-null   object \n",
      " 9   Timestamp                 1000 non-null   object \n",
      " 10  Clicked on Ad             832 non-null    float64\n",
      "dtypes: float64(5), int64(1), object(5)\n",
      "memory usage: 86.1+ KB\n"
     ]
    }
   ],
   "source": [
    "data.info()"
   ]
  },
  {
   "cell_type": "markdown",
   "metadata": {},
   "source": [
    "همان طور که اشاره کردم و درجدول بالا عم مشهود است ۸۳۲ داده از کلاس هدف مقدار دارند و مابقی ندارند ویژگی های زمان در سایت،سن و مصرف اینترنت روزانه به ترتیب ۹۰۷ ، ۹۷۹ و ۹۱۳ رکورد غیر نال دارند.<br>\n",
    "ویژگی های عددی از جنس اعشاری و ویژگی های دسته ای از جنس شی هستند"
   ]
  },
  {
   "cell_type": "markdown",
   "metadata": {},
   "source": [
    "گام دوم در این پروژه جایگذاری جنسیت افراد با مقادیر صفر و یک است.برای برچسب گذاری ابتدا باید نوع ستون به کتگوری تبدیل شود سپس از دستور زیر استفاده میکنیم.  "
   ]
  },
  {
   "cell_type": "code",
   "execution_count": 7,
   "metadata": {},
   "outputs": [
    {
     "data": {
      "text/html": [
       "<div>\n",
       "<style scoped>\n",
       "    .dataframe tbody tr th:only-of-type {\n",
       "        vertical-align: middle;\n",
       "    }\n",
       "\n",
       "    .dataframe tbody tr th {\n",
       "        vertical-align: top;\n",
       "    }\n",
       "\n",
       "    .dataframe thead th {\n",
       "        text-align: right;\n",
       "    }\n",
       "</style>\n",
       "<table border=\"1\" class=\"dataframe\">\n",
       "  <thead>\n",
       "    <tr style=\"text-align: right;\">\n",
       "      <th></th>\n",
       "      <th>Unnamed: 0</th>\n",
       "      <th>Daily Time Spent on Site</th>\n",
       "      <th>Age</th>\n",
       "      <th>Area Income</th>\n",
       "      <th>Daily Internet Usage</th>\n",
       "      <th>Ad Topic Line</th>\n",
       "      <th>City</th>\n",
       "      <th>Gender</th>\n",
       "      <th>Country</th>\n",
       "      <th>Timestamp</th>\n",
       "      <th>Clicked on Ad</th>\n",
       "    </tr>\n",
       "  </thead>\n",
       "  <tbody>\n",
       "    <tr>\n",
       "      <th>0</th>\n",
       "      <td>0</td>\n",
       "      <td>68.95</td>\n",
       "      <td>35.0</td>\n",
       "      <td>61833.90</td>\n",
       "      <td>256.09</td>\n",
       "      <td>Cloned 5thgeneration orchestration</td>\n",
       "      <td>Wrightburgh</td>\n",
       "      <td>0</td>\n",
       "      <td>Tunisia</td>\n",
       "      <td>2016-03-27 00:53:11</td>\n",
       "      <td>0.0</td>\n",
       "    </tr>\n",
       "    <tr>\n",
       "      <th>1</th>\n",
       "      <td>1</td>\n",
       "      <td>80.23</td>\n",
       "      <td>31.0</td>\n",
       "      <td>68441.85</td>\n",
       "      <td>NaN</td>\n",
       "      <td>Monitored national standardization</td>\n",
       "      <td>West Jodi</td>\n",
       "      <td>1</td>\n",
       "      <td>Nauru</td>\n",
       "      <td>2016-04-04 01:39:02</td>\n",
       "      <td>0.0</td>\n",
       "    </tr>\n",
       "    <tr>\n",
       "      <th>2</th>\n",
       "      <td>2</td>\n",
       "      <td>69.47</td>\n",
       "      <td>26.0</td>\n",
       "      <td>59785.94</td>\n",
       "      <td>236.50</td>\n",
       "      <td>Organic bottom-line service-desk</td>\n",
       "      <td>Davidton</td>\n",
       "      <td>0</td>\n",
       "      <td>San Marino</td>\n",
       "      <td>2016-03-13 20:35:42</td>\n",
       "      <td>0.0</td>\n",
       "    </tr>\n",
       "    <tr>\n",
       "      <th>3</th>\n",
       "      <td>3</td>\n",
       "      <td>74.15</td>\n",
       "      <td>29.0</td>\n",
       "      <td>54806.18</td>\n",
       "      <td>245.89</td>\n",
       "      <td>Triple-buffered reciprocal time-frame</td>\n",
       "      <td>West Terrifurt</td>\n",
       "      <td>1</td>\n",
       "      <td>Italy</td>\n",
       "      <td>2016-01-10 02:31:19</td>\n",
       "      <td>0.0</td>\n",
       "    </tr>\n",
       "    <tr>\n",
       "      <th>4</th>\n",
       "      <td>4</td>\n",
       "      <td>68.37</td>\n",
       "      <td>35.0</td>\n",
       "      <td>73889.99</td>\n",
       "      <td>225.58</td>\n",
       "      <td>Robust logistical utilization</td>\n",
       "      <td>South Manuel</td>\n",
       "      <td>0</td>\n",
       "      <td>Iceland</td>\n",
       "      <td>2016-06-03 03:36:18</td>\n",
       "      <td>0.0</td>\n",
       "    </tr>\n",
       "  </tbody>\n",
       "</table>\n",
       "</div>"
      ],
      "text/plain": [
       "   Unnamed: 0  Daily Time Spent on Site   Age  Area Income  \\\n",
       "0           0                     68.95  35.0     61833.90   \n",
       "1           1                     80.23  31.0     68441.85   \n",
       "2           2                     69.47  26.0     59785.94   \n",
       "3           3                     74.15  29.0     54806.18   \n",
       "4           4                     68.37  35.0     73889.99   \n",
       "\n",
       "   Daily Internet Usage                          Ad Topic Line  \\\n",
       "0                256.09     Cloned 5thgeneration orchestration   \n",
       "1                   NaN     Monitored national standardization   \n",
       "2                236.50       Organic bottom-line service-desk   \n",
       "3                245.89  Triple-buffered reciprocal time-frame   \n",
       "4                225.58          Robust logistical utilization   \n",
       "\n",
       "             City  Gender     Country            Timestamp  Clicked on Ad  \n",
       "0     Wrightburgh       0     Tunisia  2016-03-27 00:53:11            0.0  \n",
       "1       West Jodi       1       Nauru  2016-04-04 01:39:02            0.0  \n",
       "2        Davidton       0  San Marino  2016-03-13 20:35:42            0.0  \n",
       "3  West Terrifurt       1       Italy  2016-01-10 02:31:19            0.0  \n",
       "4    South Manuel       0     Iceland  2016-06-03 03:36:18            0.0  "
      ]
     },
     "execution_count": 7,
     "metadata": {},
     "output_type": "execute_result"
    }
   ],
   "source": [
    "data['Gender'] = data['Gender'].astype('category').cat.codes\n",
    "data.head()"
   ]
  },
  {
   "cell_type": "markdown",
   "metadata": {},
   "source": [
    "گام سوم جایگذاری سلول های خالی با مقدار میانگین آنهاست البته به جز کلاس هدف<br>\n",
    "به این منظور ابتدا تعداد عناصر خالی هر ستون را پیدا میکنیم"
   ]
  },
  {
   "cell_type": "code",
   "execution_count": 8,
   "metadata": {},
   "outputs": [
    {
     "data": {
      "text/plain": [
       "Unnamed: 0                    0\n",
       "Daily Time Spent on Site     93\n",
       "Age                          21\n",
       "Area Income                   0\n",
       "Daily Internet Usage         87\n",
       "Ad Topic Line                 0\n",
       "City                          0\n",
       "Gender                        0\n",
       "Country                       0\n",
       "Timestamp                     0\n",
       "Clicked on Ad               168\n",
       "dtype: int64"
      ]
     },
     "execution_count": 8,
     "metadata": {},
     "output_type": "execute_result"
    }
   ],
   "source": [
    "data.isna().sum()"
   ]
  },
  {
   "cell_type": "markdown",
   "metadata": {},
   "source": [
    "سپس برای آنکه عناصرخالی کلاس هدف جلیگذاری نشوند آنها را در متغیر دیگری ذخیره و داده هایی را که این ستون را از آن حذف کرده ایم در متغییر دیگری میریزیم"
   ]
  },
  {
   "cell_type": "code",
   "execution_count": 9,
   "metadata": {},
   "outputs": [],
   "source": [
    "goal = data['Clicked on Ad']\n",
    "attr = data.drop(['Clicked on Ad'] , axis =1)\n",
    "attr2 = attr"
   ]
  },
  {
   "cell_type": "markdown",
   "metadata": {},
   "source": [
    "روش اول برای جایگذاری هر عنصر خالی با میانگین عناصر دیگر همان ستون استفاده از کتابخانه پانداس میباشد"
   ]
  },
  {
   "cell_type": "code",
   "execution_count": 10,
   "metadata": {},
   "outputs": [
    {
     "name": "stdout",
     "output_type": "stream",
     "text": [
      "31.980037689208984\n"
     ]
    }
   ],
   "source": [
    "tic = time.time()\n",
    "attr = attr.fillna(attr.mean())\n",
    "toc = time.time()\n",
    "print((toc-tic)*1000)\n"
   ]
  },
  {
   "cell_type": "markdown",
   "metadata": {},
   "source": [
    "و روش دوم با استفاده از کتابخانه نامپای است"
   ]
  },
  {
   "cell_type": "code",
   "execution_count": 11,
   "metadata": {},
   "outputs": [
    {
     "name": "stdout",
     "output_type": "stream",
     "text": [
      "119.92454528808594\n"
     ]
    }
   ],
   "source": [
    "tic = time.time()\n",
    "attr2.replace(np.nan, attr2.mean())\n",
    "toc = time.time()\n",
    "print((toc-tic)*1000)\n"
   ]
  },
  {
   "cell_type": "markdown",
   "metadata": {},
   "source": [
    "در آخر و پس از جایگداری داده ها باید دوباره کلاس هدف را در کنار مابقی ستون ها قرار داده و در متغییر داده بریزیم"
   ]
  },
  {
   "cell_type": "code",
   "execution_count": 12,
   "metadata": {},
   "outputs": [
    {
     "data": {
      "text/html": [
       "<div>\n",
       "<style scoped>\n",
       "    .dataframe tbody tr th:only-of-type {\n",
       "        vertical-align: middle;\n",
       "    }\n",
       "\n",
       "    .dataframe tbody tr th {\n",
       "        vertical-align: top;\n",
       "    }\n",
       "\n",
       "    .dataframe thead th {\n",
       "        text-align: right;\n",
       "    }\n",
       "</style>\n",
       "<table border=\"1\" class=\"dataframe\">\n",
       "  <thead>\n",
       "    <tr style=\"text-align: right;\">\n",
       "      <th></th>\n",
       "      <th>Unnamed: 0</th>\n",
       "      <th>Daily Time Spent on Site</th>\n",
       "      <th>Age</th>\n",
       "      <th>Area Income</th>\n",
       "      <th>Daily Internet Usage</th>\n",
       "      <th>Ad Topic Line</th>\n",
       "      <th>City</th>\n",
       "      <th>Gender</th>\n",
       "      <th>Country</th>\n",
       "      <th>Timestamp</th>\n",
       "      <th>Clicked on Ad</th>\n",
       "    </tr>\n",
       "  </thead>\n",
       "  <tbody>\n",
       "    <tr>\n",
       "      <th>0</th>\n",
       "      <td>0</td>\n",
       "      <td>68.950000</td>\n",
       "      <td>35.0</td>\n",
       "      <td>61833.90</td>\n",
       "      <td>256.090000</td>\n",
       "      <td>Cloned 5thgeneration orchestration</td>\n",
       "      <td>Wrightburgh</td>\n",
       "      <td>0</td>\n",
       "      <td>Tunisia</td>\n",
       "      <td>2016-03-27 00:53:11</td>\n",
       "      <td>0.0</td>\n",
       "    </tr>\n",
       "    <tr>\n",
       "      <th>1</th>\n",
       "      <td>1</td>\n",
       "      <td>80.230000</td>\n",
       "      <td>31.0</td>\n",
       "      <td>68441.85</td>\n",
       "      <td>179.751271</td>\n",
       "      <td>Monitored national standardization</td>\n",
       "      <td>West Jodi</td>\n",
       "      <td>1</td>\n",
       "      <td>Nauru</td>\n",
       "      <td>2016-04-04 01:39:02</td>\n",
       "      <td>0.0</td>\n",
       "    </tr>\n",
       "    <tr>\n",
       "      <th>2</th>\n",
       "      <td>2</td>\n",
       "      <td>69.470000</td>\n",
       "      <td>26.0</td>\n",
       "      <td>59785.94</td>\n",
       "      <td>236.500000</td>\n",
       "      <td>Organic bottom-line service-desk</td>\n",
       "      <td>Davidton</td>\n",
       "      <td>0</td>\n",
       "      <td>San Marino</td>\n",
       "      <td>2016-03-13 20:35:42</td>\n",
       "      <td>0.0</td>\n",
       "    </tr>\n",
       "    <tr>\n",
       "      <th>3</th>\n",
       "      <td>3</td>\n",
       "      <td>74.150000</td>\n",
       "      <td>29.0</td>\n",
       "      <td>54806.18</td>\n",
       "      <td>245.890000</td>\n",
       "      <td>Triple-buffered reciprocal time-frame</td>\n",
       "      <td>West Terrifurt</td>\n",
       "      <td>1</td>\n",
       "      <td>Italy</td>\n",
       "      <td>2016-01-10 02:31:19</td>\n",
       "      <td>0.0</td>\n",
       "    </tr>\n",
       "    <tr>\n",
       "      <th>4</th>\n",
       "      <td>4</td>\n",
       "      <td>68.370000</td>\n",
       "      <td>35.0</td>\n",
       "      <td>73889.99</td>\n",
       "      <td>225.580000</td>\n",
       "      <td>Robust logistical utilization</td>\n",
       "      <td>South Manuel</td>\n",
       "      <td>0</td>\n",
       "      <td>Iceland</td>\n",
       "      <td>2016-06-03 03:36:18</td>\n",
       "      <td>0.0</td>\n",
       "    </tr>\n",
       "    <tr>\n",
       "      <th>...</th>\n",
       "      <td>...</td>\n",
       "      <td>...</td>\n",
       "      <td>...</td>\n",
       "      <td>...</td>\n",
       "      <td>...</td>\n",
       "      <td>...</td>\n",
       "      <td>...</td>\n",
       "      <td>...</td>\n",
       "      <td>...</td>\n",
       "      <td>...</td>\n",
       "      <td>...</td>\n",
       "    </tr>\n",
       "    <tr>\n",
       "      <th>995</th>\n",
       "      <td>995</td>\n",
       "      <td>72.970000</td>\n",
       "      <td>30.0</td>\n",
       "      <td>71384.57</td>\n",
       "      <td>208.580000</td>\n",
       "      <td>Fundamental modular algorithm</td>\n",
       "      <td>Duffystad</td>\n",
       "      <td>1</td>\n",
       "      <td>Lebanon</td>\n",
       "      <td>2016-02-11 21:49:00</td>\n",
       "      <td>1.0</td>\n",
       "    </tr>\n",
       "    <tr>\n",
       "      <th>996</th>\n",
       "      <td>996</td>\n",
       "      <td>51.300000</td>\n",
       "      <td>45.0</td>\n",
       "      <td>67782.17</td>\n",
       "      <td>134.420000</td>\n",
       "      <td>Grass-roots cohesive monitoring</td>\n",
       "      <td>New Darlene</td>\n",
       "      <td>1</td>\n",
       "      <td>Bosnia and Herzegovina</td>\n",
       "      <td>2016-04-22 02:07:01</td>\n",
       "      <td>1.0</td>\n",
       "    </tr>\n",
       "    <tr>\n",
       "      <th>997</th>\n",
       "      <td>997</td>\n",
       "      <td>51.630000</td>\n",
       "      <td>51.0</td>\n",
       "      <td>42415.72</td>\n",
       "      <td>120.370000</td>\n",
       "      <td>Expanded intangible solution</td>\n",
       "      <td>South Jessica</td>\n",
       "      <td>1</td>\n",
       "      <td>Mongolia</td>\n",
       "      <td>2016-02-01 17:24:57</td>\n",
       "      <td>1.0</td>\n",
       "    </tr>\n",
       "    <tr>\n",
       "      <th>998</th>\n",
       "      <td>998</td>\n",
       "      <td>55.550000</td>\n",
       "      <td>19.0</td>\n",
       "      <td>41920.79</td>\n",
       "      <td>187.950000</td>\n",
       "      <td>Proactive bandwidth-monitored policy</td>\n",
       "      <td>West Steven</td>\n",
       "      <td>0</td>\n",
       "      <td>Guatemala</td>\n",
       "      <td>2016-03-24 02:35:54</td>\n",
       "      <td>0.0</td>\n",
       "    </tr>\n",
       "    <tr>\n",
       "      <th>999</th>\n",
       "      <td>999</td>\n",
       "      <td>64.794818</td>\n",
       "      <td>26.0</td>\n",
       "      <td>29875.80</td>\n",
       "      <td>178.350000</td>\n",
       "      <td>Virtual 5thgeneration emulation</td>\n",
       "      <td>Ronniemouth</td>\n",
       "      <td>0</td>\n",
       "      <td>Brazil</td>\n",
       "      <td>2016-06-03 21:43:21</td>\n",
       "      <td>1.0</td>\n",
       "    </tr>\n",
       "  </tbody>\n",
       "</table>\n",
       "<p>1000 rows × 11 columns</p>\n",
       "</div>"
      ],
      "text/plain": [
       "     Unnamed: 0  Daily Time Spent on Site   Age  Area Income  \\\n",
       "0             0                 68.950000  35.0     61833.90   \n",
       "1             1                 80.230000  31.0     68441.85   \n",
       "2             2                 69.470000  26.0     59785.94   \n",
       "3             3                 74.150000  29.0     54806.18   \n",
       "4             4                 68.370000  35.0     73889.99   \n",
       "..          ...                       ...   ...          ...   \n",
       "995         995                 72.970000  30.0     71384.57   \n",
       "996         996                 51.300000  45.0     67782.17   \n",
       "997         997                 51.630000  51.0     42415.72   \n",
       "998         998                 55.550000  19.0     41920.79   \n",
       "999         999                 64.794818  26.0     29875.80   \n",
       "\n",
       "     Daily Internet Usage                          Ad Topic Line  \\\n",
       "0              256.090000     Cloned 5thgeneration orchestration   \n",
       "1              179.751271     Monitored national standardization   \n",
       "2              236.500000       Organic bottom-line service-desk   \n",
       "3              245.890000  Triple-buffered reciprocal time-frame   \n",
       "4              225.580000          Robust logistical utilization   \n",
       "..                    ...                                    ...   \n",
       "995            208.580000          Fundamental modular algorithm   \n",
       "996            134.420000        Grass-roots cohesive monitoring   \n",
       "997            120.370000           Expanded intangible solution   \n",
       "998            187.950000   Proactive bandwidth-monitored policy   \n",
       "999            178.350000        Virtual 5thgeneration emulation   \n",
       "\n",
       "               City  Gender                 Country            Timestamp  \\\n",
       "0       Wrightburgh       0                 Tunisia  2016-03-27 00:53:11   \n",
       "1         West Jodi       1                   Nauru  2016-04-04 01:39:02   \n",
       "2          Davidton       0              San Marino  2016-03-13 20:35:42   \n",
       "3    West Terrifurt       1                   Italy  2016-01-10 02:31:19   \n",
       "4      South Manuel       0                 Iceland  2016-06-03 03:36:18   \n",
       "..              ...     ...                     ...                  ...   \n",
       "995       Duffystad       1                 Lebanon  2016-02-11 21:49:00   \n",
       "996     New Darlene       1  Bosnia and Herzegovina  2016-04-22 02:07:01   \n",
       "997   South Jessica       1                Mongolia  2016-02-01 17:24:57   \n",
       "998     West Steven       0               Guatemala  2016-03-24 02:35:54   \n",
       "999     Ronniemouth       0                  Brazil  2016-06-03 21:43:21   \n",
       "\n",
       "     Clicked on Ad  \n",
       "0              0.0  \n",
       "1              0.0  \n",
       "2              0.0  \n",
       "3              0.0  \n",
       "4              0.0  \n",
       "..             ...  \n",
       "995            1.0  \n",
       "996            1.0  \n",
       "997            1.0  \n",
       "998            0.0  \n",
       "999            1.0  \n",
       "\n",
       "[1000 rows x 11 columns]"
      ]
     },
     "execution_count": 12,
     "metadata": {},
     "output_type": "execute_result"
    }
   ],
   "source": [
    "\n",
    "data = pd.concat([attr , goal],axis=1)\n",
    "data"
   ]
  },
  {
   "cell_type": "markdown",
   "metadata": {},
   "source": [
    "برای آنکه نشان دهیم چه تعداد از کاربران زن یا مرد هستند یا آنکه چه تعداد از کاربران روی آگهی کلیک کرده اند میتوانیم داده های هرستون را گرفته و تعداد ارزش های هر دسته را نشان دهیم مثلا جنسیت دو دسته زن ومرد در این مجموعه دارد و دستور زیر تعداد مردان و زنان موجود در مجموعه را نشان میدهد."
   ]
  },
  {
   "cell_type": "code",
   "execution_count": 13,
   "metadata": {},
   "outputs": [
    {
     "data": {
      "text/plain": [
       "0    519\n",
       "1    481\n",
       "Name: Gender, dtype: int64"
      ]
     },
     "execution_count": 13,
     "metadata": {},
     "output_type": "execute_result"
    }
   ],
   "source": [
    "data['Gender'].value_counts()"
   ]
  },
  {
   "cell_type": "code",
   "execution_count": 14,
   "metadata": {},
   "outputs": [
    {
     "data": {
      "text/plain": [
       "0.0    419\n",
       "1.0    413\n",
       "Name: Clicked on Ad, dtype: int64"
      ]
     },
     "execution_count": 14,
     "metadata": {},
     "output_type": "execute_result"
    }
   ],
   "source": [
    "data['Clicked on Ad'].value_counts()"
   ]
  },
  {
   "cell_type": "markdown",
   "metadata": {},
   "source": [
    "اما به منظور دسته بندی داده ها و شمارش آنها با بیش از دو معیلر میتوانیم از گروهبندی داده ها استفاده کنیم "
   ]
  },
  {
   "cell_type": "code",
   "execution_count": 15,
   "metadata": {},
   "outputs": [
    {
     "data": {
      "text/plain": [
       "Gender  Age \n",
       "0       19.0    2\n",
       "        20.0    1\n",
       "        21.0    2\n",
       "        22.0    9\n",
       "        23.0    9\n",
       "               ..\n",
       "1       55.0    3\n",
       "        57.0    4\n",
       "        59.0    1\n",
       "        60.0    2\n",
       "        61.0    1\n",
       "Length: 85, dtype: int64"
      ]
     },
     "execution_count": 15,
     "metadata": {},
     "output_type": "execute_result"
    }
   ],
   "source": [
    "data.groupby(['Gender','Age']).size()"
   ]
  },
  {
   "cell_type": "markdown",
   "metadata": {},
   "source": [
    "و برای آنکه روی داده ها شرط بگذاریم و مثل شکل زیر ابتدا شروط را برقرار و سپس نتایج را به مجموعه داده میدهیم و سپس تعداد عناصر را برمیگردانیم."
   ]
  },
  {
   "cell_type": "code",
   "execution_count": 16,
   "metadata": {},
   "outputs": [
    {
     "data": {
      "text/plain": [
       "505"
      ]
     },
     "execution_count": 16,
     "metadata": {},
     "output_type": "execute_result"
    }
   ],
   "source": [
    "len(data[(data['Age']> 22) & (data['Gender'] == 0)])\n"
   ]
  },
  {
   "cell_type": "markdown",
   "metadata": {},
   "source": [
    "مزیت دیگر دستور گروهبندی این است که میتوان روی آن توبع مختلف برای شمار، میانگین یا انحراف معیار را اعمال کرد"
   ]
  },
  {
   "cell_type": "markdown",
   "metadata": {},
   "source": [
    "در این مرحله با دوروش استفاده از حلقه و بدون حلقه میانگین سن افرادی را که کلیک کرده و نکرده اند را به دست می آوریم. انتظار میرود اجرای این دستور با حلقه به شدت کندتر باشد"
   ]
  },
  {
   "cell_type": "code",
   "execution_count": 17,
   "metadata": {},
   "outputs": [
    {
     "name": "stdout",
     "output_type": "stream",
     "text": [
      "7.9975128173828125\n"
     ]
    }
   ],
   "source": [
    "tic = time.time()\n",
    "data.groupby(['Clicked on Ad'])['Age'].mean()\n",
    "toc = time.time()\n",
    "print((toc-tic)*1000)"
   ]
  },
  {
   "cell_type": "code",
   "execution_count": 18,
   "metadata": {},
   "outputs": [
    {
     "name": "stdout",
     "output_type": "stream",
     "text": [
      "159.9254608154297\n"
     ]
    }
   ],
   "source": [
    "tic = time.time()\n",
    "yes = no =0\n",
    "yes_num = no_num =0\n",
    "for index,row in data.iterrows():\n",
    "    if row['Clicked on Ad']==0.0:\n",
    "        no += row['Age']\n",
    "        no_num +=1\n",
    "    elif row['Clicked on Ad']==1.0:\n",
    "        yes += row ['Age']\n",
    "        yes_num +=1\n",
    "\n",
    "toc = time.time()\n",
    "print((toc-tic)*1000)"
   ]
  },
  {
   "cell_type": "markdown",
   "metadata": {},
   "source": [
    "همان طور که انتظار میرفت تفاوت فاحشی در زمان اجرای دو روش فوق وجود دارد"
   ]
  },
  {
   "cell_type": "markdown",
   "metadata": {},
   "source": [
    " شکل توزیع هر ستون از داده ها نشان داده شده است histبا استفاده از تابع "
   ]
  },
  {
   "cell_type": "code",
   "execution_count": 19,
   "metadata": {},
   "outputs": [
    {
     "data": {
      "text/plain": [
       "array([[<matplotlib.axes._subplots.AxesSubplot object at 0x0000016EFA1365C8>,\n",
       "        <matplotlib.axes._subplots.AxesSubplot object at 0x0000016EFA666AC8>,\n",
       "        <matplotlib.axes._subplots.AxesSubplot object at 0x0000016EFA6A0A88>],\n",
       "       [<matplotlib.axes._subplots.AxesSubplot object at 0x0000016EFA6D8B88>,\n",
       "        <matplotlib.axes._subplots.AxesSubplot object at 0x0000016EFA9C2C88>,\n",
       "        <matplotlib.axes._subplots.AxesSubplot object at 0x0000016EFA9FADC8>],\n",
       "       [<matplotlib.axes._subplots.AxesSubplot object at 0x0000016EFAA32E48>,\n",
       "        <matplotlib.axes._subplots.AxesSubplot object at 0x0000016EFAA69F48>,\n",
       "        <matplotlib.axes._subplots.AxesSubplot object at 0x0000016EFAA74B48>]],\n",
       "      dtype=object)"
      ]
     },
     "execution_count": 19,
     "metadata": {},
     "output_type": "execute_result"
    },
    {
     "data": {
      "image/png": "[encoded data removed]",
      "text/plain": [
       "<Figure size 1008x1008 with 9 Axes>"
      ]
     },
     "metadata": {
      "needs_background": "light"
     },
     "output_type": "display_data"
    }
   ],
   "source": [
    "data.hist(figsize=(14,14), bins=10)"
   ]
  },
  {
   "cell_type": "markdown",
   "metadata": {},
   "source": [
    "از آنجا که در این گام میخواهیم دوباره روی داده ها به جز ستون هدف تغییر ایجاد کنیم مثل قبل این ستون را جدا کرده و سپس تغییرات دلخواه را اعمال میکنیم.<br>\n",
    "در این مرحله داده ها را نرمال میکنیم یعنی تمام داده ها در یک بازه مشخص می آوریم تا امکان مقایسه بهتر را فراهم کنیم برای اینکار میانگین را از داده ها کم کرده و تقسیم بر انحراف معیار میکنیم"
   ]
  },
  {
   "cell_type": "code",
   "execution_count": 20,
   "metadata": {},
   "outputs": [],
   "source": [
    "obj = data.select_dtypes(include='object')\n",
    "data = data.select_dtypes(exclude='object')\n",
    "goal = data['Clicked on Ad']\n",
    "attr = data.drop(['Clicked on Ad'] , axis =1)"
   ]
  },
  {
   "cell_type": "code",
   "execution_count": 21,
   "metadata": {},
   "outputs": [],
   "source": [
    "attr = (attr-attr.mean())/attr.std()\n",
    "data = pd.concat([attr , goal],axis=1)"
   ]
  },
  {
   "cell_type": "markdown",
   "metadata": {},
   "source": [
    "نتایج را دوباره نشان میدهیم و میبینیم تمام ستون ها در محدوده نزدیک به صفر هستند و مرکز آنها صفر میباشد."
   ]
  },
  {
   "cell_type": "code",
   "execution_count": 22,
   "metadata": {},
   "outputs": [
    {
     "data": {
      "text/plain": [
       "array([[<matplotlib.axes._subplots.AxesSubplot object at 0x0000016EFAC6EB88>,\n",
       "        <matplotlib.axes._subplots.AxesSubplot object at 0x0000016EFACD6C88>,\n",
       "        <matplotlib.axes._subplots.AxesSubplot object at 0x0000016EFAD10488>],\n",
       "       [<matplotlib.axes._subplots.AxesSubplot object at 0x0000016EFAD45E88>,\n",
       "        <matplotlib.axes._subplots.AxesSubplot object at 0x0000016EFAD81888>,\n",
       "        <matplotlib.axes._subplots.AxesSubplot object at 0x0000016EFADBD1C8>],\n",
       "       [<matplotlib.axes._subplots.AxesSubplot object at 0x0000016EFADF3E48>,\n",
       "        <matplotlib.axes._subplots.AxesSubplot object at 0x0000016EFAE29F88>,\n",
       "        <matplotlib.axes._subplots.AxesSubplot object at 0x0000016EFAE34B88>]],\n",
       "      dtype=object)"
      ]
     },
     "execution_count": 22,
     "metadata": {},
     "output_type": "execute_result"
    },
    {
     "data": {
      "image/png": "[encoded data removed]",
      "text/plain": [
       "<Figure size 1008x1008 with 9 Axes>"
      ]
     },
     "metadata": {
      "needs_background": "light"
     },
     "output_type": "display_data"
    }
   ],
   "source": [
    "data.hist(figsize=(14,14), bins=10)"
   ]
  },
  {
   "cell_type": "markdown",
   "metadata": {},
   "source": [
    "برای نمایش تابع چگالی احتمال هر ستون ابتدا میانگین و انحراف معیار آن ستون را نیاز داریم<br>\n",
    "ابتدا داده ها در دو دسته کلیک کرده و نکرده جدا میکنیم تا هنگام رسم نمودار آنها دو دسته جداگانه داشته باشیم سپس برای هر دسته میانگین و انحراف معیار تمام ستون ها را به دست می آوریم و دیتافریم جدید را در متغییر مربوطه میریزیم."
   ]
  },
  {
   "cell_type": "code",
   "execution_count": 23,
   "metadata": {},
   "outputs": [],
   "source": [
    "clicked = data[data['Clicked on Ad']==1]\n",
    "notClicked = data[data['Clicked on Ad']==0]\n",
    "clicked_mean = clicked.groupby(['Clicked on Ad']).mean()\n",
    "clicked_std = clicked.groupby(['Clicked on Ad']).std()\n",
    "notClicked_mean = notClicked.groupby(['Clicked on Ad']).mean()\n",
    "notClicked_std = notClicked.groupby(['Clicked on Ad']).std()"
   ]
  },
  {
   "cell_type": "markdown",
   "metadata": {},
   "source": [
    "\n",
    "برای رسم تابع چگالی احتمال تابع جدیدی را تعریف کردم تا برای هر ستون تنها این تابع فراخوانی شود . در این تابع ابتدا نرم با استفاده از میانگین و انحراف معیار محاسبه و سپس تابع برای هر دسته جداگانه اما در یک نمودار رسم میشود.<br>\n",
    "رنگ قرمر مربوط به کاربرانی است که روی آگهی کلیک نکرده اند و رنگ آبی کاربرانی هستند که کلیلک کرده اند."
   ]
  },
  {
   "cell_type": "code",
   "execution_count": 24,
   "metadata": {},
   "outputs": [
    {
     "data": {
      "image/png": "[encoded data removed]",
      "text/plain": [
       "<Figure size 432x288 with 1 Axes>"
      ]
     },
     "metadata": {
      "needs_background": "light"
     },
     "output_type": "display_data"
    }
   ],
   "source": [
    "def plot_pdf(column):\n",
    "    clicked_pdf = norm.pdf(clicked[column],clicked_mean[column],clicked_std[column])\n",
    "    notClicked_pdf = norm.pdf(notClicked[column],notClicked_mean[column],notClicked_std[column])\n",
    "    plt.plot(clicked[column], clicked_pdf, label='clicked',color='blue')\n",
    "    plt.plot(notClicked[column], notClicked_pdf, label='notClicked', color='red')\n",
    "    \n",
    "    \n",
    "plot_pdf('Daily Time Spent on Site')    "
   ]
  },
  {
   "cell_type": "code",
   "execution_count": 25,
   "metadata": {},
   "outputs": [
    {
     "data": {
      "image/png": "[encoded data removed]",
      "text/plain": [
       "<Figure size 432x288 with 1 Axes>"
      ]
     },
     "metadata": {
      "needs_background": "light"
     },
     "output_type": "display_data"
    }
   ],
   "source": [
    "plot_pdf('Age')    "
   ]
  },
  {
   "cell_type": "code",
   "execution_count": 26,
   "metadata": {},
   "outputs": [
    {
     "data": {
      "image/png": "[encoded data removed]",
      "text/plain": [
       "<Figure size 432x288 with 1 Axes>"
      ]
     },
     "metadata": {
      "needs_background": "light"
     },
     "output_type": "display_data"
    }
   ],
   "source": [
    "plot_pdf('Area Income')    "
   ]
  },
  {
   "cell_type": "code",
   "execution_count": 27,
   "metadata": {},
   "outputs": [
    {
     "data": {
      "image/png": "[encoded data removed]",
      "text/plain": [
       "<Figure size 432x288 with 1 Axes>"
      ]
     },
     "metadata": {
      "needs_background": "light"
     },
     "output_type": "display_data"
    }
   ],
   "source": [
    "plot_pdf('Daily Internet Usage')    "
   ]
  },
  {
   "cell_type": "code",
   "execution_count": 28,
   "metadata": {},
   "outputs": [
    {
     "data": {
      "image/png": "[encoded data removed]",
      "text/plain": [
       "<Figure size 432x288 with 1 Axes>"
      ]
     },
     "metadata": {
      "needs_background": "light"
     },
     "output_type": "display_data"
    }
   ],
   "source": [
    "plot_pdf('Gender')   "
   ]
  },
  {
   "cell_type": "markdown",
   "metadata": {},
   "source": [
    "با مشاهده نمودارهای فوق میبینیم که تمام آنها با یکدیگر همپوشانی دارند اگر ستونی بود که این داده ها در آن ستون با یکدیگر همپوشانی نداشتند آن ستون بهترین برای پیش بینی کلیک یا عدم کلیک کاربر روی آگهی میشد چرا که در آن صورت هر نقطه برای یکی از حالت ها احتمال صفر و برای دیگری بیش از صفر را میداشت اما اگر دو تابع دقیقا روی هم باشند هر نقطه   احتما برابر برای هر دو حالت دارد و نمیتوان هیچ کدام را انتخاب کرد. پس از بین تمام ویژگی های رسم شده زمان مصرف شده در سایت دقت بهتری را در مقایسه با بقیه خواهد داشت "
   ]
  },
  {
   "cell_type": "code",
   "execution_count": null,
   "metadata": {},
   "outputs": [],
   "source": []
  },
  {
   "cell_type": "markdown",
   "metadata": {},
   "source": [
    "در آخر با توجه به مقدار زمان مصرف شده در سایت برای هر ردیفی که مقدار کلیلک شدن مشخص نیست مقدار صفر یا یک را قرار میدهیم "
   ]
  },
  {
   "cell_type": "code",
   "execution_count": 29,
   "metadata": {},
   "outputs": [],
   "source": [
    "for index,row in data.iterrows():\n",
    "    if (row['Clicked on Ad'] !=1)and (row['Clicked on Ad'] !=0):\n",
    "        if row['Daily Time Spent on Site']>0:\n",
    "            data.loc[index, 'Clicked on Ad'] = 1\n",
    "        else:\n",
    "            data.loc[index, 'Clicked on Ad'] = 0\n"
   ]
  },
  {
   "cell_type": "code",
   "execution_count": 30,
   "metadata": {
    "scrolled": true
   },
   "outputs": [],
   "source": [
    "data.to_csv('result.csv')"
   ]
  },
  {
   "cell_type": "code",
   "execution_count": 31,
   "metadata": {},
   "outputs": [
    {
     "name": "stderr",
     "output_type": "stream",
     "text": [
      "[NbConvertApp] Converting notebook AI_CA.ipynb to html\n",
      "[NbConvertApp] Writing 587859 bytes to AI_CA.html\n"
     ]
    }
   ],
   "source": [
    "!jupyter nbconvert AI_CA.ipynb --to html"
   ]
  },
  {
   "cell_type": "code",
   "execution_count": null,
   "metadata": {},
   "outputs": [],
   "source": []
  }
 ],
 "metadata": {
  "kernelspec": {
   "display_name": "Python 3",
   "language": "python",
   "name": "python3"
  },
  "language_info": {
   "codemirror_mode": {
    "name": "ipython",
    "version": 3
   },
   "file_extension": ".py",
   "mimetype": "text/x-python",
   "name": "python",
   "nbconvert_exporter": "python",
   "pygments_lexer": "ipython3",
   "version": "3.7.7"
  }
 },
 "nbformat": 4,
 "nbformat_minor": 4
}
