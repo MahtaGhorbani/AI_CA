{
 "cells": [
  {
   "cell_type": "markdown",
   "metadata": {},
   "source": [
    "# Genetic Algorithm"
   ]
  },
  {
   "cell_type": "markdown",
   "metadata": {},
   "source": [
    "In this project we are going to understand concepts of genetic algorithm which is a search-based optimization technique based on the principles of Genetics and Natural Selection."
   ]
  },
  {
   "cell_type": "markdown",
   "metadata": {},
   "source": [
    "Logic gates are used for building logical circuits.Sometimes building these circuits are challenging ;therefore,using genetic algorithm to find right circuit is concidered.The desired truth table is provided and the problem is confined to sequential circuits as first and second columns are the inputs of the first gate and the output of first gate and third column are inputs of second gate,etc.<br>\n",
    "for instance,the circuit of 4 gates and 5 inputs can be like the following figure."
   ]
  },
  {
   "attachments": {
    "image.png": {
     "image/png": "[encoded data removed]"
    }
   },
   "cell_type": "markdown",
   "metadata": {},
   "source": [
    "![image.png](attachment:image.png)"
   ]
  },
  {
   "cell_type": "markdown",
   "metadata": {},
   "source": [
    "It is important to say that we are only going to use six main gates AND, OR, XOR, NAND, NOR, and XNOR."
   ]
  },
  {
   "cell_type": "markdown",
   "metadata": {},
   "source": [
    "We assign a number to each gate inorder to prevent confusion in the future"
   ]
  },
  {
   "cell_type": "code",
   "execution_count": 14,
   "metadata": {},
   "outputs": [],
   "source": [
    "import numpy as np\n",
    "import pandas as pd\n",
    "import random"
   ]
  },
  {
   "cell_type": "code",
   "execution_count": 15,
   "metadata": {},
   "outputs": [],
   "source": [
    "AND = 0\n",
    "OR = 1\n",
    "XOR = 2\n",
    "NAND = 3\n",
    "NOR = 4\n",
    "XNOR =5"
   ]
  },
  {
   "cell_type": "code",
   "execution_count": 16,
   "metadata": {},
   "outputs": [],
   "source": [
    "truth_table =pd.read_csv('truth_table.csv')\n",
    "num_rows = len(truth_table)\n",
    "columns = len(truth_table.columns)\n",
    "num_inputs = columns-1    \n",
    "OUT = truth_table['Output'].to_numpy()\n",
    "Inputs ={}\n",
    "for i in range(num_inputs):\n",
    "    Inputs[i] = truth_table.iloc[:,i].to_numpy()\n"
   ]
  },
  {
   "cell_type": "markdown",
   "metadata": {},
   "source": [
    "Above we are using the given truth table to intialize our variables which are going to be used in the training part."
   ]
  },
  {
   "cell_type": "markdown",
   "metadata": {},
   "source": [
    "In Genetic algorithm, we have a population of possible solutions to the given problem(population_initialization function). These solutions then undergo recombination(crossover functon) and mutation (mutation function), producing new children, and the process is repeated over various generations. Each individual is assigned a fitness value (fitness function) and the fitter individuals are given a higher chance to mate and yield more “fitter” individuals(selection function)."
   ]
  },
  {
   "cell_type": "markdown",
   "metadata": {},
   "source": [
    "Phase 1:<br>\n",
    "In this problem genes are 6 defined gates which each of them is given a number from 0 to 5 and chromosome is an array of these genes. Size of the array is number of inputs minus 1 because number of gates are one less than number of inputs. In the population_initialization function a random number is assigned to genes of chromosomes.<br>\n",
    "Phase 2:<br>\n",
    "Now a population of chromosomes must be initialized.Depending on the size of population,population_initialization function would generate chromosomes with random numbere assigned to their genes.<br>\n",
    "Phase 3:<br>\n",
    "It is time to find the right fitness function.The fitness value shows how many of the results are the same as desired output.In a 10 gate example, highest fintess is 1024 ,It is the exact right gate snd lowset is zero showing non are equall.In the fitness function,for each chromosome gate_result function is called.This function recursivelly calculates result of the chromosome in all inputs, finally, an array of true or false will be returned which then will be copared to desired output.Last step in fitness function is sorting and returning scores and chromosomes.<br>\n",
    "Phase 4 :<br>\n",
    "This step is creating new generation consisting of two main functions mutation and crossover.First, selection functon will return n highest score parents,then these parents' genes would combine and create a child by replacing their 3 middle values.Finally, randomly and according to mutation rate some of the genes might change in mutation function.\n"
   ]
  },
  {
   "cell_type": "code",
   "execution_count": 17,
   "metadata": {},
   "outputs": [],
   "source": [
    "def gate_result(chromosome,input1,size):\n",
    "    if size ==1:\n",
    "        return input1\n",
    "    gate = chromosome[num_inputs-size]\n",
    "    input2 = Inputs[num_inputs-size+1]\n",
    "    if gate==AND :\n",
    "        return gate_result(chromosome,np.bitwise_and(input1,input2),size-1)\n",
    "    elif gate ==OR:\n",
    "        return gate_result(chromosome,np.bitwise_or(input1,input2),size-1)\n",
    "    elif gate ==XOR:\n",
    "        return gate_result(chromosome,np.bitwise_xor(input1,input2),size-1)\n",
    "    elif gate == NAND:\n",
    "        return gate_result(chromosome,np.bitwise_not(np.bitwise_and(input1, input2)),size-1)\n",
    "    elif gate == NOR:\n",
    "        return gate_result(chromosome,np.bitwise_not(np.bitwise_or(input1, input2)),size-1)\n",
    "    elif gate == XNOR:\n",
    "        return gate_result(chromosome,np.bitwise_not(np.bitwise_xor(input1, input2)),size-1)\n",
    "    else:\n",
    "        print(gate)\n",
    "        raise ValueError('NOT DEFINED!')"
   ]
  },
  {
   "cell_type": "code",
   "execution_count": 22,
   "metadata": {},
   "outputs": [],
   "source": [
    "def population_initialization(size):\n",
    "    population =[]\n",
    "    for i in range(size):\n",
    "        chromosome = np.random.randint(low=0, high=6, size=num_inputs-1)\n",
    "        population.append(chromosome)\n",
    "    return population\n",
    "\n",
    "def fitness(population):\n",
    "    scores = []\n",
    "    for chromosome in population:\n",
    "        G9 = gate_result(chromosome,Inputs[0],num_inputs)        \n",
    "        f = sum(np.bitwise_not(np.bitwise_xor(G9, OUT)))\n",
    "        scores.append(f)\n",
    "    scores,population = np.array(scores),np.array(population)\n",
    "    inds = np.argsort(scores)\n",
    "    return list(scores[inds][::-1]), list(population[inds,:][::-1])\n",
    "    \n",
    "def selection(population,n_parents):\n",
    "    next_generation = []\n",
    "    for i in range(n_parents):\n",
    "        next_generation.append(population[i])\n",
    "    return next_generation\n",
    "\n",
    "def crossover(population):\n",
    "    n=(num_inputs -1)//2\n",
    "    next_generation = population\n",
    "    for i in range(len(next_generation)):\n",
    "        child = population[i]\n",
    "        child[n-1:n+1] = population[(i+1)%len(population)][n-1:n+1]\n",
    "        next_generation.append(child)\n",
    "    return next_generation\n",
    "\n",
    "def mutation(pop_after_cross,mutation_rate):\n",
    "    population_nextgen = []\n",
    "    for i in range(0,len(pop_after_cross)):\n",
    "        chromosome = pop_after_cross[i]\n",
    "        for j in range(len(chromosome)):\n",
    "            if random.random() < mutation_rate:\n",
    "                chromosome[j]= random.randint(0,5)\n",
    "        population_nextgen.append(chromosome)\n",
    "    return population_nextgen\n",
    "\n",
    "def generations(size,n_parents,mutation_rate):\n",
    "    best_chromo= []\n",
    "    best_score= []\n",
    "    population_nextgen=population_initialization(size)\n",
    "    while num_rows not in best_score:\n",
    "        scores, pop_after_fit = fitness(population_nextgen)\n",
    "        print(scores[:2])\n",
    "        pop_after_sel = selection(pop_after_fit,n_parents)\n",
    "        pop_after_cross = crossover(pop_after_sel)\n",
    "        population_nextgen = mutation(pop_after_cross,mutation_rate)\n",
    "        best_chromo.append(pop_after_fit[0])\n",
    "        best_score.append(scores[0])\n",
    "    print(best_chromo.pop())\n",
    "    return best_chromo,best_score"
   ]
  },
  {
   "cell_type": "code",
   "execution_count": 24,
   "metadata": {},
   "outputs": [
    {
     "name": "stdout",
     "output_type": "stream",
     "text": [
      "[944, 928]\n",
      "[954, 954]\n",
      "[928, 928]\n",
      "[928, 928]\n",
      "[976, 976]\n",
      "[994, 994]\n",
      "[968, 968]\n",
      "[984, 984]\n",
      "[982, 982]\n",
      "[994, 994]\n",
      "[972, 972]\n",
      "[960, 960]\n",
      "[992, 992]\n",
      "[992, 992]\n",
      "[1004, 1004]\n",
      "[1000, 1000]\n",
      "[1014, 1014]\n",
      "[1014, 1014]\n",
      "[1012, 1012]\n",
      "[1012, 1012]\n",
      "[1012, 1012]\n",
      "[1004, 1004]\n",
      "[1004, 1004]\n",
      "[1012, 1012]\n",
      "[1004, 1004]\n",
      "[994, 994]\n",
      "[998, 998]\n",
      "[1004, 1004]\n",
      "[1004, 1004]\n",
      "[1024, 1024]\n",
      "[2 5 5 5 0 1 0 2 4]\n"
     ]
    }
   ],
   "source": [
    "chromo,score=generations(size=300,n_parents=150,mutation_rate=0.10)"
   ]
  },
  {
   "cell_type": "code",
   "execution_count": 25,
   "metadata": {},
   "outputs": [
    {
     "name": "stdout",
     "output_type": "stream",
     "text": [
      "[928, 912]\n",
      "[960, 960]\n",
      "[972, 972]\n",
      "[968, 968]\n",
      "[984, 984]\n",
      "[936, 936]\n",
      "[968, 968]\n",
      "[992, 992]\n",
      "[992, 992]\n",
      "[996, 996]\n",
      "[1004, 1004]\n",
      "[1000, 1000]\n",
      "[1008, 1008]\n",
      "[1008, 1008]\n",
      "[1008, 1008]\n",
      "[1008, 1008]\n",
      "[1008, 1008]\n",
      "[998, 998]\n",
      "[1008, 1008]\n",
      "[1008, 1008]\n",
      "[1002, 1002]\n",
      "[992, 992]\n",
      "[1008, 1008]\n",
      "[1008, 1008]\n",
      "[1012, 1012]\n",
      "[1012, 1012]\n",
      "[1012, 1012]\n",
      "[994, 994]\n",
      "[1012, 1012]\n",
      "[1000, 1000]\n",
      "[1002, 1002]\n",
      "[990, 990]\n",
      "[1004, 1004]\n",
      "[1016, 1016]\n",
      "[1008, 1008]\n",
      "[1016, 1016]\n",
      "[1004, 1004]\n",
      "[1008, 1008]\n",
      "[1008, 1008]\n",
      "[1008, 1008]\n",
      "[1002, 1002]\n",
      "[1012, 1012]\n",
      "[1008, 1008]\n",
      "[1024, 1024]\n",
      "[3 5 4 1 0 1 3 5 3]\n"
     ]
    }
   ],
   "source": [
    "chromo,score=generations(size=200,n_parents=100,mutation_rate=0.10)"
   ]
  },
  {
   "cell_type": "markdown",
   "metadata": {},
   "source": [
    "Why this fitness function?<br>\n",
    "This function shows me how close I am to want the result should be.I used this because I was not just looking for an acceptable circuit but I was looking for a comination of gates that return exact result that the table shows.<br>\n",
    "Why selecting parents like that?\n",
    "I colud calculate probability or rank to select parents.I prefered ranking them because rank selection overcomes the scaling problems, its easier to implement and I am using other technique to avoid local optimum.<br>\n",
    "What is the impact of crossover and mutation?<br>\n",
    "These two techniqus are used to create a new generation this way new chromosomes will be in population helping to get to optimum.\n",
    "Mutation rate determines how many chromosomes should be mutated in one generation. The purpose of mutation is to prevent from converging to local optimum, but if it occurs very often, GA is changed to random search [1].Thus,nutation rate must not be so high I prefered 0.1 for this specific problem to avoid local optimum .I used multipoint crossover since first gates have higher impact on the result since their output is the input of remaining gates and more crossover can avoid stucking at local optimum."
   ]
  },
  {
   "cell_type": "markdown",
   "metadata": {},
   "source": [
    "There are some approaches to avoid local optimum.Fitness sharing, regeneration, higher rate for mutation,changing population size and selecting parents with low fitness."
   ]
  },
  {
   "cell_type": "markdown",
   "metadata": {},
   "source": [
    "Fitness sharing is a well-known diversity mechanism inspired by the idea that individuals in the population that are close to each other have to share their fitnesses in a similar way to how species in nature occupying the same ecological environment have to share resources. Thus, by derating the fitness of close individuals one hopes to encourage the population to spread out more."
   ]
  },
  {
   "cell_type": "markdown",
   "metadata": {},
   "source": [
    "Smaller population results in quicker convegence speed but it might trap in local optimum.Size of population is mostly calculated with tial.So I chose 200 populaton size which is neither high nor low.These approaches are like allowing bad move in hill climbing.50,100 and 300 population size were tried with 25,50 and 150 parents respectively.First two tests had many ups and down in best scores, last one had less ups and downs but it was slow. population of 200 ,however, get to desired result faster and with less ups and downs.(This result was get after several runs)"
   ]
  },
  {
   "cell_type": "markdown",
   "metadata": {},
   "source": [
    "I disccused about prevent local optimum with mutation and crossover and their implemented already.More parents means more crossover and choosing half of the parents to operate those functions seems reasonable so 150 is selcted for this problem."
   ]
  },
  {
   "cell_type": "markdown",
   "metadata": {},
   "source": [
    "Last method is regenerating meaning that if the population reached a local optimum we can escape from the situation by adding some new chromosome randomondly.It is like using some start points in hill climbing."
   ]
  },
  {
   "cell_type": "markdown",
   "metadata": {},
   "source": [
    "References<br>\n",
    "Hassanat, A., Almohammadi, K., Alkafaween, E., Abunawas, E., Hammouri, A. and Prasath, V., 2019. Choosing Mutation and Crossover Ratios for Genetic Algorithms—A Review with a New Dynamic Approach. Information, 10(12), p.390."
   ]
  }
 ],
 "metadata": {
  "kernelspec": {
   "display_name": "Python 3",
   "language": "python",
   "name": "python3"
  },
  "language_info": {
   "codemirror_mode": {
    "name": "ipython",
    "version": 3
   },
   "file_extension": ".py",
   "mimetype": "text/x-python",
   "name": "python",
   "nbconvert_exporter": "python",
   "pygments_lexer": "ipython3",
   "version": "3.7.7"
  }
 },
 "nbformat": 4,
 "nbformat_minor": 4
}
